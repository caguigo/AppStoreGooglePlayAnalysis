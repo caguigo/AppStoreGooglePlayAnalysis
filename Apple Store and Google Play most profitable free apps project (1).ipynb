{
 "cells": [
  {
   "cell_type": "markdown",
   "metadata": {},
   "source": [
    "# Analysis of profitable apps based on number of downloads"
   ]
  },
  {
   "cell_type": "markdown",
   "metadata": {},
   "source": [
    "Acme Inc is a company that builds exclusively free apps for Google Play and App Store. The main source of revenue for these apps is in-app ads. As a general norm, the most downloads an app has the more revenue will these adds generate, hence we need to analyze what are the main characteristics of the most downloaded apps in Acme's portfolio."
   ]
  },
  {
   "cell_type": "markdown",
   "metadata": {},
   "source": [
    "The goal of this project is to provide the main characteristics of their \"winner\" apps, so that the developers better understand which apps are more likely to attract more users and generate revenue in a more predictable way."
   ]
  },
  {
   "cell_type": "markdown",
   "metadata": {},
   "source": [
    "### We have 2 datasets: 'AppleStore.csv' and 'googleplaystore.csv' with data from approximately 7,000 and 10,000 apps respectively."
   ]
  },
  {
   "cell_type": "markdown",
   "metadata": {},
   "source": [
    "Our first step is opening each dataset and transforming it into a list of lists to make it more readable:"
   ]
  },
  {
   "cell_type": "code",
   "execution_count": 1,
   "metadata": {},
   "outputs": [],
   "source": [
    "open_dataset_Apple = open('AppleStore.csv')\n",
    "from csv import reader\n",
    "read_dataset_Apple = reader(open_dataset_Apple)\n",
    "final_dataset_Apple = list(read_dataset_Apple)\n",
    "\n",
    "open_dataset_Android = open('googleplaystore.csv')\n",
    "from csv import reader\n",
    "read_dataset_Android = reader(open_dataset_Android)\n",
    "final_dataset_Android = list(read_dataset_Android)"
   ]
  },
  {
   "cell_type": "markdown",
   "metadata": {},
   "source": [
    "We then need to explore the data. Below we create a function that will find out: how does the data look like, how many rows does it have and how many columns does it have."
   ]
  },
  {
   "cell_type": "code",
   "execution_count": 2,
   "metadata": {},
   "outputs": [],
   "source": [
    "def explore_data(dataset, start, end, rows_and_columns=False):\n",
    "    dataset_slice = dataset[start:end]    \n",
    "    for row in dataset_slice:\n",
    "        print(row)\n",
    "        print('\\n') # adds a new (empty) line after each row\n",
    "\n",
    "    if rows_and_columns:\n",
    "        print('Number of rows:', len(dataset))\n",
    "        print('Number of columns:', len(dataset[0]))"
   ]
  },
  {
   "cell_type": "markdown",
   "metadata": {},
   "source": [
    "We go on to apply the 'explore_data' function to both databases to have an idea of what are we working with:"
   ]
  },
  {
   "cell_type": "code",
   "execution_count": 3,
   "metadata": {},
   "outputs": [
    {
     "name": "stdout",
     "output_type": "stream",
     "text": [
      "['id', 'track_name', 'size_bytes', 'currency', 'price', 'rating_count_tot', 'rating_count_ver', 'user_rating', 'user_rating_ver', 'ver', 'cont_rating', 'prime_genre', 'sup_devices.num', 'ipadSc_urls.num', 'lang.num', 'vpp_lic']\n",
      "\n",
      "\n",
      "['284882215', 'Facebook', '389879808', 'USD', '0.0', '2974676', '212', '3.5', '3.5', '95.0', '4+', 'Social Networking', '37', '1', '29', '1']\n",
      "\n",
      "\n",
      "['389801252', 'Instagram', '113954816', 'USD', '0.0', '2161558', '1289', '4.5', '4.0', '10.23', '12+', 'Photo & Video', '37', '0', '29', '1']\n",
      "\n",
      "\n",
      "['529479190', 'Clash of Clans', '116476928', 'USD', '0.0', '2130805', '579', '4.5', '4.5', '9.24.12', '9+', 'Games', '38', '5', '18', '1']\n",
      "\n",
      "\n",
      "['420009108', 'Temple Run', '65921024', 'USD', '0.0', '1724546', '3842', '4.5', '4.0', '1.6.2', '9+', 'Games', '40', '5', '1', '1']\n",
      "\n",
      "\n",
      "Number of rows: 7198\n",
      "Number of columns: 16\n"
     ]
    }
   ],
   "source": [
    "explore_data(final_dataset_Apple, 0, 5, True)"
   ]
  },
  {
   "cell_type": "code",
   "execution_count": 4,
   "metadata": {},
   "outputs": [
    {
     "name": "stdout",
     "output_type": "stream",
     "text": [
      "['App', 'Category', 'Rating', 'Reviews', 'Size', 'Installs', 'Type', 'Price', 'Content Rating', 'Genres', 'Last Updated', 'Current Ver', 'Android Ver']\n",
      "\n",
      "\n",
      "['Photo Editor & Candy Camera & Grid & ScrapBook', 'ART_AND_DESIGN', '4.1', '159', '19M', '10,000+', 'Free', '0', 'Everyone', 'Art & Design', 'January 7, 2018', '1.0.0', '4.0.3 and up']\n",
      "\n",
      "\n",
      "['Coloring book moana', 'ART_AND_DESIGN', '3.9', '967', '14M', '500,000+', 'Free', '0', 'Everyone', 'Art & Design;Pretend Play', 'January 15, 2018', '2.0.0', '4.0.3 and up']\n",
      "\n",
      "\n",
      "['U Launcher Lite – FREE Live Cool Themes, Hide Apps', 'ART_AND_DESIGN', '4.7', '87510', '8.7M', '5,000,000+', 'Free', '0', 'Everyone', 'Art & Design', 'August 1, 2018', '1.2.4', '4.0.3 and up']\n",
      "\n",
      "\n",
      "['Sketch - Draw & Paint', 'ART_AND_DESIGN', '4.5', '215644', '25M', '50,000,000+', 'Free', '0', 'Teen', 'Art & Design', 'June 8, 2018', 'Varies with device', '4.2 and up']\n",
      "\n",
      "\n",
      "Number of rows: 10842\n",
      "Number of columns: 13\n"
     ]
    }
   ],
   "source": [
    "explore_data(final_dataset_Android, 0, 5, True)"
   ]
  },
  {
   "cell_type": "markdown",
   "metadata": {},
   "source": [
    "----\n",
    "Our function assummed that there is no header when it counted the number of rows, hence we need to subsctract 1 from our total number of rows from each database. This means that we have:\n",
    "\n",
    "- One 16 column table with 7197 rows for Apple's dataset\n",
    "- One 13 column table with 10841 rows for Android's dataset"
   ]
  },
  {
   "cell_type": "markdown",
   "metadata": {},
   "source": [
    "## We proceed with data cleaning - look for duplicates and missing data:"
   ]
  },
  {
   "cell_type": "markdown",
   "metadata": {},
   "source": [
    "### Looking for missing data and removing it:"
   ]
  },
  {
   "cell_type": "markdown",
   "metadata": {},
   "source": [
    "We look for missing data for Android's dataset comparing the length of the header with the length of the rest of the lines"
   ]
  },
  {
   "cell_type": "code",
   "execution_count": 5,
   "metadata": {
    "scrolled": true
   },
   "outputs": [
    {
     "name": "stdout",
     "output_type": "stream",
     "text": [
      "['Life Made WI-Fi Touchscreen Photo Frame', '1.9', '19', '3.0M', '1,000+', 'Free', '0', 'Everyone', '', 'February 11, 2018', '1.0.19', '4.0 and up']\n",
      "12\n",
      "10473\n"
     ]
    }
   ],
   "source": [
    "for row in final_dataset_Android:\n",
    "    if len(row) != len(final_dataset_Android[0]):\n",
    "        print(row)\n",
    "        print(len(row))\n",
    "        print(final_dataset_Android.index(row))\n",
    "        \n",
    "    "
   ]
  },
  {
   "cell_type": "markdown",
   "metadata": {},
   "source": [
    "##### We leave the delete command as Markdown to avoid repeated deletions. We still needed if we re-run the code from scratch or the functions below will give us errors ('cannot convert str '3.M' to float)\n",
    "----\n",
    "del final_dataset_Android[10473]"
   ]
  },
  {
   "cell_type": "code",
   "execution_count": 6,
   "metadata": {},
   "outputs": [],
   "source": [
    "del final_dataset_Android[10473]"
   ]
  },
  {
   "cell_type": "markdown",
   "metadata": {},
   "source": [
    "We have found and deleted the incorrect row in Android's database. Now we look for missing data for Apple:"
   ]
  },
  {
   "cell_type": "code",
   "execution_count": 7,
   "metadata": {},
   "outputs": [],
   "source": [
    "for row in final_dataset_Apple:\n",
    "    if len(row) != len(final_dataset_Apple[0]):\n",
    "        print(row)\n",
    "        print(len(row))\n",
    "        print(final_dataset_Apple.index(row))\n",
    "    "
   ]
  },
  {
   "cell_type": "markdown",
   "metadata": {},
   "source": [
    "No results means that there is no missing data for Apple's database."
   ]
  },
  {
   "cell_type": "markdown",
   "metadata": {},
   "source": [
    "### Looking for duplicates:"
   ]
  },
  {
   "cell_type": "markdown",
   "metadata": {},
   "source": [
    "We start with Android:"
   ]
  },
  {
   "cell_type": "code",
   "execution_count": 8,
   "metadata": {},
   "outputs": [
    {
     "name": "stdout",
     "output_type": "stream",
     "text": [
      "1181\n",
      "['Quick PDF Scanner + OCR FREE', 'Box', 'Google My Business', 'ZOOM Cloud Meetings', 'join.me - Simple Meetings', 'Box', 'Zenefits', 'Google Ads', 'Google My Business', 'Slack', 'FreshBooks Classic', 'Insightly CRM', 'QuickBooks Accounting: Invoicing & Expenses', 'HipChat - Chat Built for Teams', 'Xero Accounting Software', 'MailChimp - Email, Marketing Automation', 'Crew - Free Messaging and Scheduling', 'Asana: organize team projects', 'Google Analytics', 'AdWords Express', 'Accounting App - Zoho Books', 'Invoice & Time Tracking - Zoho', 'join.me - Simple Meetings', 'Invoice 2go — Professional Invoices and Estimates', 'SignEasy | Sign and Fill PDF and other Documents', 'Quick PDF Scanner + OCR FREE', 'Genius Scan - PDF Scanner', 'Tiny Scanner - PDF Scanner App', 'Fast Scanner : Free PDF Scan', 'Mobile Doc Scanner (MDScan) Lite', 'TurboScan: scan documents and receipts in PDF', 'Tiny Scanner Pro: PDF Doc Scan', 'Docs To Go™ Free Office Suite', 'OfficeSuite : Free Office + PDF Editor', 'Slack', 'QuickBooks Accounting: Invoicing & Expenses', 'WhatsApp Messenger', 'Messenger – Text and Video Chat for Free', 'imo free video calls and chat', 'Viber Messenger', 'Hangouts', 'WeChat', 'Telegram', 'Who', 'Google Voice', 'Android Messages', 'Firefox Focus: The privacy browser', 'Google Allo', 'Google Chrome: Fast & Secure', 'Firefox Browser fast & private', 'Puffin Web Browser', 'Opera Browser: Fast and Secure', 'Opera Mini - fast web browser', 'UC Browser Mini -Tiny Fast Private & Secure', 'UC Browser - Fast Download Private & Secure', 'Calls & Text by Mo+', 'Viber Messenger', 'Call Blocker', 'Gmail', 'Yahoo Mail – Stay Organized', 'Hangouts', 'imo free video calls and chat', 'free video calls and chat', 'Viber Messenger', 'Skype - free IM & video calls', 'WeChat', 'Glide - Video Chat Messenger', 'Talkray - Free Calls & Texts', 'LINE: Free Calls & Messages', 'KakaoTalk: Free Calls & Text', 'OkCupid Dating', 'CMB Free Dating App', 'Hily: Dating, Chat, Match, Meet & Hook up', 'Hinge: Dating & Relationships', 'BBW Dating & Plus Size Chat', 'Casual Dating & Adult Singles - Joyride', 'EliteSingles – Dating for Single Professionals', 'Clover Dating App', 'Moco - Chat, Meet People', 'Hot or Not - Find someone right now', 'Just She - Top Lesbian Dating', 'Once - Quality Matches Every day', 'Sudy – Meet Elite & Rich Single', 'muzmatch: Muslim & Arab Singles, Marriage & Dating', 'Chispa, the Dating App for Latino, Latina Singles', 'Blendr - Chat, Flirt & Meet', 'Find Real Love — YouLove Premium Dating', 'Cougar Dating Life : Date Older Women Sugar Mummy', 'stranger chat - anonymous chat', 'Millionaire Match: Rich Singles Dating App', 'Dating for 50 plus Mature Singles – FINALLY', 'Moco+ - Chat, Meet People', 'Chat Rooms, Avatars, Date - Galaxy', 'FastMeet: Chat, Dating, Love', 'Christian Dating For Free App', 'Meet24 - Love, Chat, Singles', 'Black White Interracial Dating - Interracial Match', 'Gay Sugar Daddy Dating & Hookup – Sudy Gay', 'Adult Dirty Emojis', 'Hide App, Private Dating, Safe Chat - PrivacyHider', 'Meet4U - Chat, Love, Singles!', '95Live -SG#1 Live Streaming App', 'Just She - Top Lesbian Dating', 'Hily: Dating, Chat, Match, Meet & Hook up', 'O-Star', 'Random Video Chat', 'Black People Meet Singles Date', 'Howlr', 'Free Dating & Flirt Chat - Choice of Love', 'Cardi B Live Stream Video Chat - Prank', 'Chat Kids - Chat Room For Kids', 'muzmatch: Muslim & Arab Singles, Marriage & Dating', 'BBW Dating & Plus Size Chat', 'Transenger – Ts Dating and Chat for Free', 'BBW Dating & Curvy Singles Chat- LargeFriends', 'MouseMingle', 'FlirtChat - ♥Free Dating/Flirting App♥', 'Live Talk - Free Text and Video Chat', 'Adult Dirty Emojis', 'Free Cam Girls - Live Webcam', 'Random Video Chat App With Strangers', 'Live Girls Talk - Free Video Chat', 'Girls Live Chat - Free Text & Video Chat', 'Free Dating App - Meet Local Singles - Flirt Chat', 'iPair-Meet, Chat, Dating', 'Free Dating Hook Up Messenger', 'Free Dating App - YoCutie - Flirt, Chat & Meet', 'Khan Academy', 'TED', 'Lumosity: #1 Brain Games & Cognitive Training App', 'Udemy - Online Courses', 'Khan Academy', 'TED', 'Duolingo: Learn Languages Free', 'Quizlet: Learn Languages & Vocab with Flashcards', 'Coursera: Online courses', 'Udemy - Online Courses', 'Udacity - Lifelong Learning', 'edX - Online Courses by Harvard, MIT & more', 'Lynda - Online Training Videos', 'Learn languages, grammar & vocabulary with Memrise', 'Brilliant', 'Babbel – Learn Languages', 'Duolingo: Learn Languages Free', 'Rosetta Stone: Learn to Speak & Read New Languages', 'Learn languages, grammar & vocabulary with Memrise', 'Learn English with Wlingua', 'Quizlet: Learn Languages & Vocab with Flashcards', 'Google Classroom', 'Duolingo: Learn Languages Free', 'Learn 50 languages', 'Mango Languages: Lovable Language Courses', 'Rosetta Stone: Learn to Speak & Read New Languages', 'Learn languages, grammar & vocabulary with Memrise', 'Babbel – Learn Languages', 'busuu: Learn Languages - Spanish, English & More', 'My Class Schedule: Timetable', 'Socratic - Math Answers & Homework Help', 'Google Classroom', 'ClassDojo', 'HelloTalk — Chat, Speak & Learn Foreign Languages', 'Quizlet: Learn Languages & Vocab with Flashcards', 'busuu: Learn Languages - Spanish, English & More', 'Rosetta Stone: Learn to Speak & Read New Languages', 'Movies by Flixster, with Rotten Tomatoes', 'IMDb Movies & TV', 'Netflix', 'IMDb Movies & TV', 'Netflix', 'Tubi TV - Free Movies & TV', 'Crunchyroll - Everything Anime', 'STARZ', 'Crackle - Free TV & Movies', 'CBS - Full Episodes & Live TV', 'Nick', 'Hulu: Stream TV, Movies & more', 'FOX NOW - On Demand & Live TV', 'The CW', 'HISTORY: Watch TV Show Full Episodes & Specials', 'HBO NOW: Stream TV & Movies', 'A&E - Watch Full Episodes of TV Shows', 'VH1', 'Lifetime - Watch Full Episodes & Original Movies', 'BET NOW - Watch Shows', 'Netflix', 'Tubi TV - Free Movies & TV', 'Crackle - Free TV & Movies', 'Crunchyroll - Everything Anime', 'Nick', 'STARZ', 'Hulu: Stream TV, Movies & more', 'Food Network', 'FOX NOW - On Demand & Live TV', 'Movies by Flixster, with Rotten Tomatoes', 'HISTORY: Watch TV Show Full Episodes & Specials', 'Viki: Asian TV Dramas & Movies', 'The CW', 'Univision NOW - Live TV and On Demand', 'HBO NOW: Stream TV & Movies', 'A&E - Watch Full Episodes of TV Shows', 'VH1', 'SHOWTIME', 'MTV', 'Lifetime - Watch Full Episodes & Original Movies', 'Comedy Central', 'BET NOW - Watch Shows', 'FOX', 'Telemundo Now', 'Viki: Asian TV Dramas & Movies', 'Nick', 'Fandango Movies - Times + Tickets', 'Google Pay', 'Wells Fargo Daily Change', 'Credit Karma', 'Robinhood - Investing, No Fees', 'Digit Save Money Automatically', 'Acorns - Invest Spare Change', 'Money Lover: Expense Tracker, Budget Planner', 'Mint: Budget, Bills, Finance', 'Simple - Better Banking', 'PayPal', 'Google Pay', 'Wells Fargo Mobile', 'Capital One® Mobile', 'Grubhub: Food Delivery', 'Postmates Food Delivery: Order Eats & Alcohol', \"Domino's Pizza USA\", 'Chick-fil-A', 'Zomato - Restaurant Finder and Food Delivery App', 'Run with Map My Run', 'Weight Loss Running by Verv', 'Nike+ Run Club', 'Runtastic Running App & Mile Tracker', '8fit Workouts & Meal Planner', 'Daily Yoga - Yoga Fitness Plans', 'Pocket Yoga', 'Calorie Counter - MyFitnessPal', 'Weight Loss Running by Verv', 'Nike+ Run Club', 'Seven - 7 Minute Workout Training Challenge', 'Weight Watchers Mobile', 'Walk with Map My Walk', 'Workout Trainer: fitness coach', 'Run with Map My Run', 'Nike Training Club - Workouts & Fitness Plans', 'Fitbit Coach', 'Calorie Counter - MyFitnessPal', 'Endomondo - Running & Walking', 'Runkeeper - GPS Track Run Walk', 'Nike+ Run Club', 'Runtastic Running App & Mile Tracker', 'Calorie Counter - MyFitnessPal', 'Lose It! - Calorie Counter', 'Calorie Counter - MyNetDiary', '10 Best Foods for You', 'MyPlate Calorie Tracker', 'Weight Loss Tracker - RecStyle', 'Calorie Counter by FatSecret', 'Calorie Counter - Macros', 'My Diet Diary Calorie Counter', 'Lark - 24/7 Health Coach', 'Weight Watchers Mobile', 'Calorie Counter & Diet Tracker', 'MealLogger-Photo Food Journal', 'Health and Nutrition Guide', 'Food Calorie Calculator', 'Calorie Counter - MyFitnessPal', 'Lose It! - Calorie Counter', 'Relax Meditation: Sleep with Sleep Sounds', 'Meditation Music - Relax, Yoga', '21-Day Meditation Experience', 'Fabulous: Motivate Me! Meditate, Relax, Sleep', 'Calm - Meditate, Sleep, Relax', 'Relax Melodies: Sleep Sounds', 'Simple Habit Meditation', 'Headspace: Meditation & Mindfulness', 'Daily Yoga - Yoga Fitness Plans', 'Houzz Interior Design Ideas', 'Mortgage by Zillow: Calculator & Rates', 'Redfin Real Estate', 'Apartment List: Housing, Apt, and Property Rentals', 'Realtor.com Real Estate: Homes for Sale and Rent', 'Trulia Real Estate & Rentals', 'Zillow: Find Houses for Sale & Apartments for Rent', 'Apartments & Rentals - Zillow', 'Trulia Rent Apartments & Homes', 'Apartments.com Rental Search', 'Houzz Interior Design Ideas', 'Vaniday - Beauty Booking App', 'StyleSeat', 'JOANN - Crafts & Coupons', 'Fashion in Vogue', 'Wheretoget: Shop in style', 'My Dressing - Fashion closet', 'Chictopia', 'Scarf Fashion Designer', 'Fashion in Vogue', 'Zara', 'Subway Surfers', 'ROBLOX', 'Pou', '8 Ball Pool', 'Clash of Clans', 'Candy Crush Saga', 'Plants vs. Zombies FREE', 'My Talking Angela', 'Bubble Shooter', 'Word Search', 'Candy Crush Soda Saga', 'Fishdom', 'Block Puzzle', 'Clash Royale', 'Sniper 3D Gun Shooter: Free Shooting Games - FPS', 'Granny', 'Galaxy Attack: Alien Shooter', 'Angry Birds Rio', 'Zombie Catchers', 'Zombie Hunter King', 'Temple Run 2', 'Zombie Tsunami', 'Farm Heroes Saga', 'Super Jim Jump - pixel 3d', 'slither.io', 'Angry Birds Classic', 'Flow Free', 'ROBLOX', 'Helix Jump', 'Subway Surfers', 'Candy Crush Saga', 'Toon Blast', 'Granny', '8 Ball Pool', 'Sniper 3D Gun Shooter: Free Shooting Games - FPS', 'slither.io', 'Temple Run 2', 'Kick the Buddy', 'Magic Tiles 3', 'Bowmasters', 'Wordscapes', 'Block Craft 3D: Building Simulator Games For Free', 'Helix Jump', 'PUBG MOBILE', 'Wordscapes', 'DRAGON BALL LEGENDS', 'ROBLOX', 'Candy Crush Saga', '8 Ball Pool', 'Harry Potter: Hogwarts Mystery', 'PUBG MOBILE', 'MARVEL Strike Force', 'Merge Dragons!', 'Honkai Impact 3rd', 'Candy Crush Saga', 'ROBLOX', '8 Ball Pool', 'Subway Surfers', 'Candy Crush Soda Saga', 'Zombie Hunter King', 'Bubble Shooter', 'Toon Blast', 'Toy Blast', 'Clash Royale', 'Clash of Clans', 'Farm Heroes Saga', 'Plants vs. Zombies FREE', 'Word Search', 'Block Puzzle', 'Super Jim Jump - pixel 3d', 'Pou', 'Temple Run 2', 'Flow Free', 'Homescapes', 'Wordscapes', 'My Talking Angela', 'slither.io', 'Cooking Fever', 'Gardenscapes', 'Fishdom', 'Galaxy Attack: Alien Shooter', 'Score! Hero', 'Zombie Catchers', 'Magic Tiles 3', 'Granny', 'Dream League Soccer 2018', 'Fruits Bomb', 'Angry Birds Classic', 'Talking Tom Gold Run', 'Bowmasters', 'My Talking Tom', 'Hill Climb Racing', 'Sniper 3D Gun Shooter: Free Shooting Games - FPS', 'Pixel Art: Color by Number Game', 'Rider', 'Zombie Tsunami', 'Garena Free Fire', 'Subway Surfers', 'Helix Jump', 'Temple Run 2', 'slither.io', 'Bowmasters', 'Talking Tom Gold Run', 'Zombie Catchers', 'Sniper 3D Gun Shooter: Free Shooting Games - FPS', 'Miraculous Ladybug & Cat Noir - The Official Game', 'Kick the Buddy', 'DRAGON BALL LEGENDS', 'Zombie Hunter King', 'Garena Free Fire', 'Candy Crush Saga', 'Plants vs. Zombies FREE', 'Block Puzzle', 'Helix Jump', '8 Ball Pool', 'Bubble Shooter', 'Solitaire', 'Traffic Racer', 'Hill Climb Racing', 'Earn to Die 2', 'Bubble Shooter 2', 'Flow Free', 'Zombie Catchers', 'Angry Birds Rio', 'Candy Crush Jelly Saga', 'Cut the Rope FULL FREE', 'Jewels Star: OZ adventure', 'Hungry Shark Evolution', 'Angry Birds Classic', 'Best Fiends - Free Puzzle Game', 'Hill Climb Racing 2', 'Swamp Attack', 'Bowmasters', 'Magic Tiles 3', 'Block Puzzle Classic Legend !', 'Pixel Art: Color by Number Game', 'Score! Hero', 'Zombie Tsunami', 'DEAD TARGET: FPS Zombie Apocalypse Survival Games', 'Word Search', 'Farm Heroes Saga', 'YouTube Kids', 'Candy Bomb', 'ROBLOX', 'Solitaire', 'Princess Coloring Book', 'Hello Kitty Nail Salon', 'Dog Run - Pet Dog Simulator', 'Coloring book moana', 'Bubble Shooter', 'Barbie™ Fashion Closet', 'Minion Rush: Despicable Me Official Game', 'No.Draw - Colors by Number 2018', 'Duolingo: Learn Languages Free', 'Super ABC! Learning games for kids! Preschool apps', 'ROBLOX', 'PJ Masks: Moonlight Heroes', 'Minion Rush: Despicable Me Official Game', 'Dog Run - Pet Dog Simulator', 'Hot Wheels: Race Off', 'Farming Simulator 14', 'Mcqueen Coloring pages', 'Monster Truck Driver & Racing', 'Strawberry Shortcake BerryRush', 'DC Super Hero Girls™', 'Toca Kitchen 2', 'DC Super Hero Girls™', 'Strawberry Shortcake BerryRush', 'Disney Magic Kingdoms: Build Your Own Magical Park', 'Toca Life: City', 'Papumba Academy - Fun Learning For Kids', 'Kids Balloon Pop Game Free 🎈', 'Sounds for Toddlers FREE', 'Elmo Calls by Sesame Street', 'Sago Mini Friends', 'Papumba Academy - Fun Learning For Kids', 'Tee and Mo Bath Time Free', 'Bita and the Animals - Pelos Ares', 'TO-FU Oh!SUSHI', 'DreamWorks Friends', 'Avokiddo Emotions', 'Nighty Night Circus', 'Sago Mini Babies', \"Dr. Panda & Toto's Treehouse\", 'ROBLOX', 'PlayKids - Educational cartoons and games for kids', 'YouTube Kids', 'Baby Panda Care', 'Monster High™', 'Duolingo: Learn Languages Free', 'Shopkins World!', 'DisneyNOW – TV Shows & Games', 'Equestria Girls', 'Frozen Free Fall', 'Nick', 'Thomas & Friends: Race On!', 'Inside Out Thought Bubbles', 'Sago Mini Friends', 'School of Dragons', 'Peak – Brain Games & Training', 'Period Tracker', 'Vargo Anesthesia Mega App', 'Monash Uni Low FODMAP Diet', 'mySugr: the blood sugar tracker made just for you', 'Human Anatomy Atlas 2018: Complete 3D Human Body', 'ASCCP Mobile', 'Paramedic Protocol Provider', '2017 EMRA Antibiotic Guide', 'Essential Anatomy 3', 'EMT PASS', 'Block Buddy', 'EMT Review Plus', 'Journal Club: Medicine', 'Pedi STAT', 'AnatomyMapp', 'Diabetes & Diet Tracker', 'A Manual of Acupuncture', 'PTA Content Master', 'Muscle Premium - Human Anatomy, Kinesiology, Bones', 'Cardiac diagnosis (heart rate, arrhythmia)', 'Medical ID - In Case of Emergency (ICE)', 'IBM Micromedex Drug Info', 'Advanced Comprehension Therapy', 'Hospitalist Handbook', 'Teladoc Member', 'Ada - Your Health Guide', 'Ovia Fertility Tracker & Ovulation Calculator', 'Youper - AI Therapy', 'MoodSpace', 'Super Hearing Super Ear Amplifier', 'Penn State Health OnDemand', 'ScriptSave WellRx Rx Discounts', 'Free Blood Pressure', 'All Mental disorders', 'Nurse Grid', 'JH Blood Pressure Monitor', 'Blood Pressure', 'RT 516 VET', 'Anthem Anywhere', 'Sway Medical', \"fred's Pharmacy\", 'Breastfeeding Tracker Baby Log', 'Banfield Pet Health Tracker', '1800 Contacts - Lens Store', 'TextNow - free text + calls', 'Tumblr', 'Snapchat', 'Instagram', 'Periscope - Live Video', 'Snapchat', 'Instagram', 'Pinterest', 'MeetMe: Chat & Meet New People', 'ooVoo Video Calls, Messaging & Stories', 'LinkedIn', 'Tango - Live Video Broadcast', 'SayHi Chat, Meet New People', 'Tapatalk - 100,000+ Forums', 'Badoo - Free Chat & Dating App', 'Nextdoor - Local neighborhood news & classifieds', 'MeetMe: Chat & Meet New People', 'Meetup', 'Text Free: WiFi Calling App', 'textPlus: Free Text & Calls', 'Meetup', 'POF Free Dating App', 'MeetMe: Chat & Meet New People', 'Tagged - Meet, Chat & Dating', 'LOVOO', 'SKOUT - Meet, Chat, Go Live', 'Badoo - Free Chat & Dating App', 'Jaumo Dating, Flirt & Live Video', 'SayHi Chat, Meet New People', 'Couple - Relationship App', 'Meetup', 'Wish - Shopping Made Fun', 'SnipSnap Coupon App', 'Extreme Coupon Finder', 'Checkout 51: Grocery coupons', 'The Coupons App', 'RetailMeNot - Coupons, Deals & Discount Shopping', 'Groupon - Shop Deals, Discounts & Coupons', 'Stocard - Rewards Cards Wallet', 'Extreme Coupon Finder', 'eBay: Buy & Sell this Summer - Discover Deals Now!', 'Checkout 51: Grocery coupons', 'Gyft - Mobile Gift Card Wallet', 'Shopkick: Free Gift Cards, Shop Rewards & Deals', 'The Coupons App', 'Shopular: Coupons, Weekly Ads & Shopping Deals', 'Wish - Shopping Made Fun', 'Carousell: Snap-Sell, Chat-Buy', 'Walmart', 'Ibotta: Cash Back Savings, Rewards & Coupons App', 'AliExpress - Smarter Shopping, Better Living', 'LivingSocial - Local Deals', 'Amazon Shopping', 'RetailMeNot - Coupons, Deals & Discount Shopping', 'Poshmark - Buy & Sell Fashion', 'Target - now with Cartwheel', 'ZALORA Fashion Shopping', 'eBay: Buy & Sell this Summer - Discover Deals Now!', 'Fancy', \"Modcloth – Unique Indie Women's Fashion & Style\", 'Gyft - Mobile Gift Card Wallet', \"JackThreads: Men's Shopping\", 'LivingSocial - Local Deals', 'Zappos – Shoe shopping made simple', 'Wanelo Shopping', 'Etsy: Handmade & Vintage Goods', 'Groupon - Shop Deals, Discounts & Coupons', 'eBay: Buy & Sell this Summer - Discover Deals Now!', \"JackThreads: Men's Shopping\", 'AliExpress - Smarter Shopping, Better Living', 'Slickdeals: Coupons & Shopping', 'Target - now with Cartwheel', 'Wish - Shopping Made Fun', 'Fancy', 'ASOS', 'Google Photos', 'Shutterfly: Free Prints, Photo Books, Cards, Gifts', 'InstaBeauty -Makeup Selfie Cam', 'B612 - Beauty & Filter Camera', 'BeautyPlus - Easy Photo Editor & Selfie Camera', 'YouCam Perfect - Selfie Photo Editor', 'Google Photos', 'Muzy - Share photos & collages', 'QuickPic - Photo Gallery with Google Drive Support', 'Flickr', 'Shutterfly: Free Prints, Photo Books, Cards, Gifts', 'Open Camera', 'Camera for Android', 'Cymera Camera- Photo Editor, Filter,Collage,Layout', 'Candy Camera - selfie, beauty camera, photo editor', 'Camera360: Selfie Photo Editor with Funny Sticker', 'Facetune - For Free', 'Photo Editor Selfie Camera Filter & Mirror Image', 'HD Camera for Android', 'Photo Editor Pro', 'YouCam Makeup - Magic Selfie Makeovers', 'Photo Editor-', 'Camera for Android', 'Photo Editor', 'Cymera Camera- Photo Editor, Filter,Collage,Layout', 'Adobe Photoshop Express:Photo Editor Collage Maker', 'BeautyPlus - Easy Photo Editor & Selfie Camera', 'InstaSize Photo Filters & Collage Editor', 'Candy Camera - selfie, beauty camera, photo editor', 'YouCam Perfect - Selfie Photo Editor', 'Camera360: Selfie Photo Editor with Funny Sticker', 'Facetune - For Free', 'Shutterfly: Free Prints, Photo Books, Cards, Gifts', 'BeautyPlus - Easy Photo Editor & Selfie Camera', 'CBS Sports App - Scores, News, Stats & Watch Live', 'Yahoo Fantasy Sports - #1 Rated Fantasy App', 'ESPN', 'NFL', 'Bleacher Report: sports news, scores, & highlights', 'ESPN Fantasy Sports', 'theScore: Live Sports Scores, News, Stats & Videos', 'CBS Sports App - Scores, News, Stats & Watch Live', 'ESPN', 'MLB At Bat', 'CBS Sports App - Scores, News, Stats & Watch Live', 'WatchESPN', 'Hole19: Golf GPS App, Rangefinder & Scorecard', 'Yahoo Fantasy Sports - #1 Rated Fantasy App', 'ESPN Fantasy Sports', 'CBS Sports Fantasy', 'ESPN', 'Bleacher Report: sports news, scores, & highlights', 'theScore: Live Sports Scores, News, Stats & Videos', 'CBS Sports App - Scores, News, Stats & Watch Live', 'ESPN', 'Bleacher Report: sports news, scores, & highlights', 'MLB At Bat', 'theScore: Live Sports Scores, News, Stats & Videos', 'CBS Sports App - Scores, News, Stats & Watch Live', 'Yahoo Sports - scores, stats, news, & highlights', 'WatchESPN', 'FotMob - Live Soccer Scores', 'Yahoo Fantasy Sports - #1 Rated Fantasy App', 'ESPN', 'NFL', 'US Open Tennis Championships 2018', 'Bleacher Report: sports news, scores, & highlights', 'MLB At Bat', 'FIFA - Tournaments, Soccer News & Live Scores', 'theScore: Live Sports Scores, News, Stats & Videos', 'Golfshot: Golf GPS + Tee Times', 'BBC Sport', 'CBS Sports App - Scores, News, Stats & Watch Live', 'Yahoo Sports - scores, stats, news, & highlights', 'WatchESPN', 'MLB Ballpark', 'FOX Sports: Live Streaming, Scores & News', 'Fantasy Football', 'PGA TOUR', 'UFC', 'trivago: Hotels & Travel', 'Expedia Hotels, Flights & Car Rental Travel Deals', 'TripAdvisor Hotels Flights Restaurants Attractions', 'Skyscanner', 'Booking.com Travel Deals', 'TripAdvisor Hotels Flights Restaurants Attractions', 'Priceline Hotel Deals, Rental Cars & Flights', 'United Airlines', 'Expedia Hotels, Flights & Car Rental Travel Deals', 'Southwest Airlines', 'Hopper - Watch & Book Flights', 'Fly Delta', 'KAYAK Flights, Hotels & Cars', 'American Airlines', 'Skyscanner', 'Priceline Hotel Deals, Rental Cars & Flights', 'trivago: Hotels & Travel', 'Expedia Hotels, Flights & Car Rental Travel Deals', 'KAYAK Flights, Hotels & Cars', 'Orbitz - Hotels, Flights & Package Deals', 'Skyscanner', 'Hotels.com: Book Hotel Rooms & Find Vacation Deals', 'Booking.com Travel Deals', 'Hostelworld: Hostels & Cheap Hotels Travel App', 'TripAdvisor Hotels Flights Restaurants Attractions', 'Airbnb', 'Skyscanner', 'HotelTonight: Book amazing deals at great hotels', 'Maps - Navigate & Explore', 'Google Street View', 'Calculator', 'Gboard - the Google Keyboard', 'ZEDGE™ Ringtones & Wallpapers', 'ZEDGE™ Ringtones & Wallpapers', 'Nova Launcher', 'Apex Launcher', 'Smart Launcher 5', 'Google Keep', 'Evernote – Organizer, Planner for Notes & Memos', 'ES File Explorer File Manager', 'Microsoft Word', 'Google Drive', 'Adobe Acrobat Reader', 'Google PDF Viewer', 'Microsoft Excel', 'Google Docs', 'Microsoft PowerPoint', 'Microsoft OneNote', 'Google Calendar', 'Google Keep', 'Wunderlist: To-Do List & Tasks', 'Evernote – Organizer, Planner for Notes & Memos', 'Any.do: To-do list, Calendar, Reminders & Planner', 'Todoist: To-do lists for task management & errands', 'Microsoft OneNote', 'Planner Pro-Personal Organizer', 'Google Calendar', 'Google Drive', 'Microsoft OneDrive', 'Dropbox', 'MX Player', 'Video Editor', 'Google News', 'Flipboard: News For Our Time', 'BBC News', 'Fox News – Breaking News, Live Video & News Alerts', 'USA TODAY', 'CNN Breaking US & World News', 'Twitter', 'BBC News', 'NPR News', 'Fox News – Breaking News, Live Video & News Alerts', 'Haystack TV: Local & World News - Free', 'ABC News - US & World News', 'USA TODAY', 'NBC News', 'The Wall Street Journal: Business & Market News', 'CNN Breaking US & World News', 'NYTimes - Latest News', 'Newsroom: News Worth Sharing', 'Google News', 'BuzzFeed: News, Tasty, Quizzes', 'Flipboard: News For Our Time', 'Snapchat', 'Flashlight', 'Pou', 'Agar.io', 'Angry Birds Classic', 'My Talking Tom', 'Netflix', 'Bubble Shooter', 'Adobe Acrobat Reader', 'Subway Surfers', 'LEGO® Juniors Create & Cruise', 'WhatsApp Messenger', 'Google Translate', 'Pokémon GO', 'Instagram', 'My Talking Angela', 'YouTube Kids', 'PAC-MAN', 'Colorfy: Coloring Book for Adults - Free', 'Toca Kitchen 2', 'Amazon Shopping', 'Chick-fil-A', 'YouTube', 'Flow Free', 'Microsoft Word', \"Alto's Adventure\", 'Zombie Tsunami', 'Facebook', 'B612 - Beauty & Filter Camera', 'Block Craft 3D: Building Simulator Games For Free', '8 Ball Pool', 'VPN Free - Betternet Hotspot VPN & Private Browser', 'EMT Tutor NREMT-B Study Guide', 'EMT-B Pocket Prep', 'UC Browser - Fast Download Private & Secure', 'Hungry Shark Evolution', 'Diary with lock', 'Clash of Clans', 'Clash Royale', 'C Programming', 'CppDroid - C/C++ IDE', 'Candy Crush Saga', 'Google Chrome: Fast & Secure', 'Learn C++', 'Hill Climb Racing', 'ZEDGE™ Ringtones & Wallpapers', 'Minion Rush: Despicable Me Official Game', 'Google Duo - High Quality Video Calls', 'Crossy Road', 'Temple Run 2', 'Dropbox', 'Sniper 3D Gun Shooter: Free Shooting Games - FPS', 'Plants vs. Zombies FREE', 'Dream League Soccer 2018', 'eBay: Buy & Sell this Summer - Discover Deals Now!', 'ESPN', 'ES File Explorer File Manager', 'Firefox Browser fast & private', 'E*TRADE Mobile', 'WWE', 'Amazon Kindle', 'Evernote – Organizer, Planner for Notes & Memos', 'Microsoft Edge', 'Microsoft Outlook', 'Pinterest', 'ClassDojo', 'The Coupons App', 'Ebook Reader', 'Gmail', 'Maps - Navigate & Explore', 'AliExpress - Smarter Shopping, Better Living', 'Flipkart Online Shopping App', 'Wish - Shopping Made Fun', 'Messenger – Text and Video Chat for Free', 'Facebook Lite', 'Messenger Lite: Free Calls & Messages', 'Twitter', 'LINE: Free Calls & Messages', 'imo beta free calls and text', 'Geometry Dash World', 'Google+', 'PUBG MOBILE', 'Gboard - the Google Keyboard', 'Granny', 'Google', 'Hangouts', 'G Cloud Backup', 'Google Drive', 'Helix Jump', 'H&M', 'H TV', 'Talking Ben the Dog', 'imo free video calls and chat', 'free video calls and chat', 'slither.io', 'POF Free Dating App', 'Skype - free IM & video calls', 'Sonic Dash', 'Text Free: WiFi Calling App', 'Talkatone: Free Texts, Calls & Phone Number', 'Textgram - write on photos', 'Zombie Catchers', 'Jetpack Joyride', 'Anger of stick 5 : zombie', 'Cut the Rope FULL FREE', 'Turbo FAST', 'K PLUS', 'PowerDirector Video Editor App: 4K, Slow Mo & More', 'Fuzzy Numbers: Pre-K Number Foundation', 'KakaoTalk: Free Calls & Text', 'LiveMe - Video chat, new friends, and make money', 'Talking Tom Gold Run', 'letgo: Buy & Sell Used Stuff, Cars & Real Estate', 'Love Balls', 'Last Day on Earth: Survival', 'Minecraft', 'MEGA', 'MX Player', 'I’m Expecting - Pregnancy App', 'Diabetes:M', 'Opera Mini - fast web browser', 'Opera Browser: Fast and Secure', 'O-Star', 'PicsArt Photo Studio: Collage Maker & Pic Editor', 'Quora', 'ROBLOX', 'SHAREit - Transfer & Share', 'Tumblr', 'Topbuzz: Breaking News, Videos & Funny GIFs', 'Twitch: Livestream Multiplayer Games & Esports', 'Telegram', 'myAT&T', 'Truecaller: Caller ID, SMS spam blocking & Dialer', 'Showtime Anytime', 'UC Browser Mini -Tiny Fast Private & Secure', 'Uber', 'Viber Messenger', 'VLC for Android', 'Vigo Video', 'WeChat', 'Wattpad 📖 Free Books', 'Waze - GPS, Maps, Traffic Alerts & Live Navigation', 'Dating App, Flirt & Chat : W-Match', 'WPS Office - Word, Docs, PDF, Note, Slide & Sheet', 'LINE WEBTOON - Free Comics', 'WhatsApp Business', 'We Heart It', 'TripAdvisor Hotels Flights Restaurants Attractions', 'Telegram X', 'Share Music & Transfer Files - Xender', 'Yandex Browser with Protect', 'YouTube Studio', 'Yahoo Mail – Stay Organized', 'PBS KIDS Video', 'YouTube Gaming', 'GO Keyboard - Emoticon keyboard, Free Theme, GIF', 'Zello PTT Walkie Talkie', 'Z Camera - Photo Editor, Beauty Selfie, Collage', 'Six Pack in 30 Days - Abs Workout', 'Angry Birds 2', 'Angry Birds Rio', 'AC - Tips & News for Android™', 'CM Browser - Ad Blocker , Fast Download , Privacy', 'Google Ads', 'Mobi Calculator free & AD free!', 'Flipp - Weekly Shopping', 'A&E - Watch Full Episodes of TV Shows', 'Camera FV-5 Lite', 'Cardiac diagnosis (heart rate, arrhythmia)', 'Open Camera', 'All Football - Latest News & Videos', 'Maricopa AH', 'Youper - AI Therapy', 'Animal Jam - Play Wild!', 'RULES OF SURVIVAL', 'Amazon for Tablets', 'Final Fantasy XV: A New Empire', 'The Sims™ FreePlay', 'Text free - Free Text + Call', 'Google Photos', '365Scores - Live Scores', 'DINO HUNTER: DEADLY SHORES', 'AP Mobile - Breaking News', 'Reuters News', 'Puffin Web Browser', 'AccuWeather: Daily Forecast & Live Weather Reports', 'Moovit: Bus Time & Train Time Live Info', 'Jurassic World™ Alive', 'Houzz Interior Design Ideas', 'NYTimes - Latest News', 'Overstock – Home Decor, Furniture Shopping', 'Google Voice', 'Choices: Stories You Play', 'Runtastic Sleep Better: Sleep Cycle & Smart Alarm', 'Google Pay', 'Ringtone Maker', 'Google Allo', 'Plants vs. Zombies™ Heroes', 'CM FILE MANAGER HD', 'MLB At Bat', 'HotelTonight: Book amazing deals at great hotels', 'realestate.com.au - Buy, Rent & Sell Property', 'Video Player All Format', 'DEER HUNTER 2018', 'Video Editor', 'Google Play Games', 'ai.type Free Emoji Keyboard', 'Manga AZ - Manga Comic Reader', 'British Airways', 'American Airlines', 'Anthem BC Anywhere', 'Transit: Real-Time Transit App', 'PMHNP-BC Pocket Prep', 'BeautyPlus - Easy Photo Editor & Selfie Camera', 'Bowmasters', 'Nick', 'mySugr: the blood sugar tracker made just for you', 'Backgrounds HD (Wallpapers)', 'Blur Image Background', 'Newegg Mobile', 'Moco - Chat, Meet People', 'Hot or Not - Find someone right now', 'MeetMe: Chat & Meet New People', 'TED', 'English Dictionary - Offline', 'OkCupid Dating', 'Mint: Budget, Bills, Finance', 'English Grammar Test', 'Daily Manga - Comic & Webtoon', 'BBM - Free Calls & Messages', 'BeyondMenu Food Delivery', 'NOOK: Read eBooks & Magazines', 'NOOK App for NOOK Devices', 'Badoo - Free Chat & Dating App', 'HBO GO: Stream with TV Package', 'No Crop & Square for Instagram', 'Hungry Shark World', 'iBP Blood Pressure', 'Blood Pressure', 'Blood Pressure Log - MyDiary', 'Blood Pressure(BP) Diary', 'BP Journal - Blood Pressure Diary', 'Blood Pressure Monitor', 'Blood Pressure Companion', 'Free Blood Pressure', 'High Blood Pressure Symptoms', 'QR Scanner & Barcode Scanner 2018', 'Camera FV-5', 'Camera MX - Free Photo & Video Camera', 'Bleacher Report: sports news, scores, & highlights', 'Cardboard', 'Kick the Buddy', 'Maps & GPS Navigation — OsmAnd', 'Beautiful Widgets Pro', 'Beautiful Widgets Free', 'HD Widgets', 'Color by Number – New Coloring Book', 'Photo Editor by Aviary', 'UNICORN - Color By Number & Pixel Art Coloring', 'Elmo Calls by Sesame Street', '420 BZ Budeze Delivery', 'BZWBK24 mobile', 'Zoosk Dating App: Meet Singles', 'Cricbuzz - Live Cricket Scores & News', 'Cheapflights – Flight Search', 'Chrome Beta', 'Chrome Dev', 'CJmall', 'Credit Karma', 'Castle Clash: Heroes of the Empire US', 'CM Launcher 3D - Theme, Wallpapers, Efficient', 'CM Locker - Security Lockscreen', 'CM Flashlight (Compass, SOS)', 'Ruler', 'QuickPic - Photo Gallery with Google Drive Support', 'Cartoon Network App', 'LEGO® TV', 'DisneyNOW – TV Shows & Games', 'Brit + Co', 'CT Scan Cross Sectional Anatomy', 'Shadow Fight 2', 'Curriculum vitae App CV Builder Free Resume Maker', 'The CW', 'CW Seed', 'Hulu: Stream TV, Movies & more', 'Cymera Camera- Photo Editor, Filter,Collage,Layout', 'Camera360 Lite - Selfie Camera', 'Mapy.cz - Cycling & Hiking offline maps', 'Face Filter, Selfie Editor - Sweet Camera', 'Metal Soldiers 2', \"COOKING MAMA Let's Cook!\", 'Run Sausage Run!', 'Knife Hit', 'DRAGON BALL LEGENDS', 'DC Comics', 'DC Super Hero Girls™', 'MARVEL Contest of Champions', 'MARVEL Strike Force', 'wetter.com - Weather and Radar', 'Babbel – Learn Languages', 'CallApp: Caller ID, Blocker & Phone Call Recorder', 'LINE Camera - Photo editor', 'Racing in Car 2', 'Google PDF Viewer', 'Periscope - Live Video', 'Dungeon Hunter Champions: Epic Online Action RPG', 'Red Bull TV: Live Sports, Music & Entertainment', 'Idle Heroes', 'Duolingo: Learn Languages Free', 'Free phone calls, free texting SMS on free number', 'Phone Tracker : Family Locator', 'My Photo Keyboard', 'Whoscall - Caller ID & Block', 'Google Sheets', 'Video Downloader', 'Google Docs', 'Any.do: To-do list, Calendar, Reminders & Planner', 'Notepad & To do list', 'Polaris Office - Word, Docs, Sheets, Slide, PDF', 'Google Keep', 'Do It Later: Tasks & To-Dos', 'Todoist: To-do lists for task management & errands', 'To-Do Calendar Planner', 'Wunderlist: To-Do List & Tasks', 'TickTick: To Do List with Reminder, Day Planner', 'ColorNote Notepad Notes', 'Apex Launcher', 'Dude Perfect 2', 'Dairy Queen', 'SONIC Drive-In', \"McDonald's\", 'Wendy’s – Food and Offers', \"Dunkin' Donuts\", 'SUBWAY®', 'Panera Bread', 'Starbucks', \"Dr. Panda & Toto's Treehouse\", 'Cache Cleaner-DU Speed Booster (booster & cleaner)', 'DU Browser—Browse fast & fun', 'Real Racing 3', 'Equestria Girls', 'My Little Pony Celebration', 'Miraculous Ladybug & Cat Noir - The Official Game', 'My Little Pony: Harmony Quest', 'PJ Masks: Moonlight Heroes', 'The Emirates App', 'Phogy, 3D Camera', 'Weather by eltiempo.es', 'The Game of Life', 'Spanish English Translator', 'Human Anatomy Atlas 2018: Complete 3D Human Body', \"Game for KIDS: KIDS match'em\", 'CBS Sports App - Scores, News, Stats & Watch Live', 'Yahoo Fantasy Sports - #1 Rated Fantasy App', 'Dictionary - Merriam-Webster', 'Edmodo', 'busuu: Learn Languages - Spanish, English & More', 'Chess Free', 'Oxford Dictionary of English : Free', 'Masha and the Bear Child Games', 'Frozen Free Fall', 'Episode - Choose Your Story', 'The NBC App - Watch Live TV and Full Episodes', 'Moto File Manager', 'HBO NOW: Stream TV & Movies', 'Moneycontrol – Stocks, Sensex, Mutual Funds, IPO', 'CNBC: Breaking Business News & Live Market Data', 'Google Earth', 'Groupon - Shop Deals, Discounts & Coupons', 'Google News', 'Amino: Communities and Chats', 'Nike Training Club - Workouts & Fitness Plans', 'Hangouts Dialer - Call Phones', 'Offline Maps & Navigation', 'Strawberry Shortcake Ice Cream Island', 'Home Workout - No Equipment', 'Home Security Camera WardenCam - reuse old phones', 'Food Network', 'Web Browser for Android', 'Airway Ex - Intubate. Anesthetize. Train.', 'FilterGrid - Cam&Photo Editor', 'Messages, Text and Video Chat for Messenger', 'All Social Networks', 'Premier League - Official App', 'Farm Heroes Saga', 'ESPN Fantasy Sports', 'Fallout Shelter', 'Facebook Pages Manager', 'Facebook Ads Manager', 'Who Viewed My Facebook Profile - Stalkers Visitors', 'The 5th Stand', 'Garena Free Fire', 'osmino Wi-Fi: free WiFi', 'Fun Kid Racing - Motocross', 'Podcast App: Free & Offline Podcasts by Player FM', 'Motorola FM Radio', 'FarmersOnly Dating', 'Firefox Focus: The privacy browser', 'FP Notebook', 'Slickdeals: Coupons & Shopping', 'AAFP']\n"
     ]
    }
   ],
   "source": [
    "non_duplicates_Android = []\n",
    "duplicates_Android = []\n",
    "for row in final_dataset_Android:\n",
    "    if row[0] not in non_duplicates_Android:\n",
    "        non_duplicates_Android.append(row[0])\n",
    "    else: \n",
    "        duplicates_Android.append(row[0])\n",
    "    \n",
    "print(len(duplicates_Android))\n",
    "print(duplicates_Android)"
   ]
  },
  {
   "cell_type": "markdown",
   "metadata": {},
   "source": [
    "There are 1181 duplicates in the Android database. Now we analyze Apple's database"
   ]
  },
  {
   "cell_type": "code",
   "execution_count": 9,
   "metadata": {
    "scrolled": true
   },
   "outputs": [
    {
     "name": "stdout",
     "output_type": "stream",
     "text": [
      "0\n",
      "[]\n"
     ]
    }
   ],
   "source": [
    "non_duplicates_Apple = []\n",
    "duplicates_Apple = []\n",
    "for row in final_dataset_Apple:\n",
    "    if row[0] not in non_duplicates_Apple:\n",
    "        non_duplicates_Apple.append(row[0])\n",
    "    else: \n",
    "        duplicates_Apple.append(row[0])\n",
    "\n",
    "print(len(duplicates_Apple))\n",
    "print(duplicates_Apple)"
   ]
  },
  {
   "cell_type": "markdown",
   "metadata": {},
   "source": [
    "There are no duplicates in this case"
   ]
  },
  {
   "cell_type": "markdown",
   "metadata": {},
   "source": [
    "We proceed to remove all the duplicates from the Android database since this one is the one with extensive 'not clean' data. We are going to focus on keeping the apps with the highest number of reviews, because we assume the more number of reviews the more up to date should be the information (number of ratings is index 3). \n",
    "\n",
    "To do this, we create an empty dictionary, we loop through the database, and if the app name is in the dictionary and the number of reviews is lower than the number in this dictionary, we update the value."
   ]
  },
  {
   "cell_type": "code",
   "execution_count": 10,
   "metadata": {},
   "outputs": [
    {
     "name": "stdout",
     "output_type": "stream",
     "text": [
      "9659\n"
     ]
    }
   ],
   "source": [
    "reviews_max = {}\n",
    "for row in final_dataset_Android[1:]:\n",
    "    name = row[0] \n",
    "    n_reviews = float(row[3])\n",
    "    if name in reviews_max and reviews_max[name] <= n_reviews:\n",
    "        reviews_max[name] = n_reviews\n",
    "    if name not in reviews_max:\n",
    "        reviews_max[name] = n_reviews\n",
    "        \n",
    "print(len(reviews_max))"
   ]
  },
  {
   "cell_type": "markdown",
   "metadata": {},
   "source": [
    "As a result we get a dictionary with the names of 9659 apps with their unique and highest ratings"
   ]
  },
  {
   "cell_type": "markdown",
   "metadata": {},
   "source": [
    "Now that we have the unique values in the dictionary we can proceed to create a list that countains exclusively these unique apps with all the information in each of the rows from final_database_Android:"
   ]
  },
  {
   "cell_type": "code",
   "execution_count": 11,
   "metadata": {},
   "outputs": [
    {
     "name": "stdout",
     "output_type": "stream",
     "text": [
      "[['Photo Editor & Candy Camera & Grid & ScrapBook', 'ART_AND_DESIGN', '4.1', '159', '19M', '10,000+', 'Free', '0', 'Everyone', 'Art & Design', 'January 7, 2018', '1.0.0', '4.0.3 and up'], ['U Launcher Lite – FREE Live Cool Themes, Hide Apps', 'ART_AND_DESIGN', '4.7', '87510', '8.7M', '5,000,000+', 'Free', '0', 'Everyone', 'Art & Design', 'August 1, 2018', '1.2.4', '4.0.3 and up'], ['Sketch - Draw & Paint', 'ART_AND_DESIGN', '4.5', '215644', '25M', '50,000,000+', 'Free', '0', 'Teen', 'Art & Design', 'June 8, 2018', 'Varies with device', '4.2 and up']]\n",
      "9659\n"
     ]
    }
   ],
   "source": [
    "android_clean = [] # will store new cleaned dataset\n",
    "already_added = [] # will store app names and help us keep track of what we added\n",
    "for row in final_dataset_Android[1:]:\n",
    "    name = row[0]\n",
    "    n_reviews = float(row[3])\n",
    "    if n_reviews == reviews_max[name] and name not in already_added:\n",
    "        android_clean.append(row)\n",
    "        already_added.append(name)\n",
    "\n",
    "print(android_clean[:3])\n",
    "print(len(android_clean))\n",
    "\n"
   ]
  },
  {
   "cell_type": "markdown",
   "metadata": {},
   "source": [
    "## Finding Non-English app names"
   ]
  },
  {
   "cell_type": "markdown",
   "metadata": {},
   "source": [
    "### Testing ord() function"
   ]
  },
  {
   "cell_type": "markdown",
   "metadata": {},
   "source": [
    "Next step of the data cleaning is check which apps have English names, as some of them have non-English characters (e.g Chinese, Arabic or Japanese characters). \n",
    "\n",
    "To identify these, we will extract the index associated to each Unicode character. We do this with the function \"ord()\". And we know that most English characters end after number 127.\n",
    "\n",
    "We start with a test:"
   ]
  },
  {
   "cell_type": "code",
   "execution_count": 12,
   "metadata": {},
   "outputs": [
    {
     "data": {
      "text/plain": [
       "False"
      ]
     },
     "execution_count": 12,
     "metadata": {},
     "output_type": "execute_result"
    }
   ],
   "source": [
    "def check_English_characters(sentence):\n",
    "    for character in sentence:\n",
    "       \n",
    "        if ord(character) > 127:\n",
    "            return False\n",
    "        \n",
    "    return True\n",
    "\n",
    "check_English_characters ('Instachat 😜')"
   ]
  },
  {
   "cell_type": "markdown",
   "metadata": {},
   "source": [
    "The nature of a function is to stop once it can execute a return. If we put a return inside a loop, it will break the loop. Since we are only looking for 1 or more indication that this is not English, it is fine to put the first return inside the loop. However, if we put the second return inside the loop, it will ALSO stop in the first letter without verifying whether the rest are correct or not. That is why we put the return outside the loop, we are saying: if you looped through the whole string and did not find any incorrect character, then simply return True."
   ]
  },
  {
   "cell_type": "markdown",
   "metadata": {},
   "source": [
    "### Improving Non-English apps identification with ord()"
   ]
  },
  {
   "cell_type": "markdown",
   "metadata": {},
   "source": [
    "The instructions make the point that for apps like Instachat above we get False when we have something unusual, like an emoji. In order to not miss these false negatives, we ask our function to do this only if there are 3 or more Non-English characters:"
   ]
  },
  {
   "cell_type": "code",
   "execution_count": 13,
   "metadata": {
    "scrolled": true
   },
   "outputs": [
    {
     "data": {
      "text/plain": [
       "False"
      ]
     },
     "execution_count": 13,
     "metadata": {},
     "output_type": "execute_result"
    }
   ],
   "source": [
    "def check_English_characters_2(sentence2):\n",
    "    non_english_characters_registry = []\n",
    "    for character in sentence2:\n",
    "       \n",
    "        if ord(character) > 127:\n",
    "            non_english_characters_registry.append(character)\n",
    "            if len(non_english_characters_registry) > 3:\n",
    "                return False\n",
    "      \n",
    "    \n",
    "    return True\n",
    "\n",
    "check_English_characters_2 ('爱奇艺PPS -《欢乐颂2》电视剧热播')"
   ]
  },
  {
   "cell_type": "markdown",
   "metadata": {},
   "source": [
    "We proceed to apply this to the both datasets: android_clean and final_dataset_Apple. Those apps that are in English will be appended to a new list."
   ]
  },
  {
   "cell_type": "code",
   "execution_count": 14,
   "metadata": {},
   "outputs": [
    {
     "name": "stdout",
     "output_type": "stream",
     "text": [
      "[['Photo Editor & Candy Camera & Grid & ScrapBook', 'ART_AND_DESIGN', '4.1', '159', '19M', '10,000+', 'Free', '0', 'Everyone', 'Art & Design', 'January 7, 2018', '1.0.0', '4.0.3 and up'], ['U Launcher Lite – FREE Live Cool Themes, Hide Apps', 'ART_AND_DESIGN', '4.7', '87510', '8.7M', '5,000,000+', 'Free', '0', 'Everyone', 'Art & Design', 'August 1, 2018', '1.2.4', '4.0.3 and up'], ['Sketch - Draw & Paint', 'ART_AND_DESIGN', '4.5', '215644', '25M', '50,000,000+', 'Free', '0', 'Teen', 'Art & Design', 'June 8, 2018', 'Varies with device', '4.2 and up']]\n",
      "9614\n",
      "[['284882215', 'Facebook', '389879808', 'USD', '0.0', '2974676', '212', '3.5', '3.5', '95.0', '4+', 'Social Networking', '37', '1', '29', '1'], ['389801252', 'Instagram', '113954816', 'USD', '0.0', '2161558', '1289', '4.5', '4.0', '10.23', '12+', 'Photo & Video', '37', '0', '29', '1'], ['529479190', 'Clash of Clans', '116476928', 'USD', '0.0', '2130805', '579', '4.5', '4.5', '9.24.12', '9+', 'Games', '38', '5', '18', '1']]\n",
      "6183\n"
     ]
    }
   ],
   "source": [
    "android_clean_English = []\n",
    "for appsnames in android_clean:\n",
    "    android_temp_clean_English = check_English_characters_2(appsnames[0])\n",
    "    if android_temp_clean_English == True:\n",
    "        android_clean_English.append(appsnames)\n",
    "\n",
    "apple_clean_English = []\n",
    "for appsnamesapple in final_dataset_Apple[1:]:\n",
    "    apple_temp_clean_English = check_English_characters_2(appsnamesapple[1])\n",
    "    if apple_temp_clean_English == True:\n",
    "        apple_clean_English.append(appsnamesapple)\n",
    "\n",
    "print(android_clean_English[0:3])\n",
    "print(len(android_clean_English))\n",
    "print(apple_clean_English[0:3])\n",
    "print(len(apple_clean_English))"
   ]
  },
  {
   "cell_type": "markdown",
   "metadata": {},
   "source": [
    "We have new clean datasets (android_clean_English and apple_clean_English) in English with 9614 apps for Android and 6183 apps for Apple."
   ]
  },
  {
   "cell_type": "markdown",
   "metadata": {},
   "source": [
    "## Extracting the free apps"
   ]
  },
  {
   "cell_type": "markdown",
   "metadata": {},
   "source": [
    "Right now both datasets have both free and paid apps. We only need the free ones, so we will isolate them in a similar way as we did with the Non English apps."
   ]
  },
  {
   "cell_type": "code",
   "execution_count": 15,
   "metadata": {},
   "outputs": [
    {
     "name": "stdout",
     "output_type": "stream",
     "text": [
      "8864\n",
      "3222\n"
     ]
    }
   ],
   "source": [
    "android_clean_english_free = []\n",
    "for appsnames in android_clean_English:\n",
    "    if appsnames[7] == '0':\n",
    "        android_clean_english_free.append(appsnames)\n",
    "\n",
    "apple_clean_english_free = []\n",
    "for appleappsnames in apple_clean_English:\n",
    "    if appleappsnames[4] == '0.0':\n",
    "        apple_clean_english_free.append(appleappsnames)\n",
    "        \n",
    "print(len(android_clean_english_free))\n",
    "print(len(apple_clean_english_free))\n",
    "    "
   ]
  },
  {
   "cell_type": "markdown",
   "metadata": {},
   "source": [
    "This leaves us with 8864 free English apps in Android and 3222 free English apps in Apple."
   ]
  },
  {
   "cell_type": "markdown",
   "metadata": {},
   "source": [
    "## Finding the profitable apps"
   ]
  },
  {
   "cell_type": "markdown",
   "metadata": {},
   "source": [
    "Now that we have both datasets completely clean and only with the apps that we are looking for, we can proceed with a deeper data analysis. As a reminder, our final goal is to find out which are the most profitable kinds of apps. The first step is to have an overview for which are the most common kinds of apps."
   ]
  },
  {
   "cell_type": "markdown",
   "metadata": {},
   "source": [
    "We will make the overview by creating a frequency table that gives us the most common app types. But first, we identify which are the most useful columns using our first function 'explore data':"
   ]
  },
  {
   "cell_type": "code",
   "execution_count": 16,
   "metadata": {},
   "outputs": [
    {
     "name": "stdout",
     "output_type": "stream",
     "text": [
      "['App', 'Category', 'Rating', 'Reviews', 'Size', 'Installs', 'Type', 'Price', 'Content Rating', 'Genres', 'Last Updated', 'Current Ver', 'Android Ver']\n",
      "\n",
      "\n",
      "['Photo Editor & Candy Camera & Grid & ScrapBook', 'ART_AND_DESIGN', '4.1', '159', '19M', '10,000+', 'Free', '0', 'Everyone', 'Art & Design', 'January 7, 2018', '1.0.0', '4.0.3 and up']\n",
      "\n",
      "\n"
     ]
    }
   ],
   "source": [
    "explore_data(final_dataset_Android, 0, 2,)"
   ]
  },
  {
   "cell_type": "code",
   "execution_count": 17,
   "metadata": {
    "scrolled": true
   },
   "outputs": [
    {
     "name": "stdout",
     "output_type": "stream",
     "text": [
      "['id', 'track_name', 'size_bytes', 'currency', 'price', 'rating_count_tot', 'rating_count_ver', 'user_rating', 'user_rating_ver', 'ver', 'cont_rating', 'prime_genre', 'sup_devices.num', 'ipadSc_urls.num', 'lang.num', 'vpp_lic']\n",
      "\n",
      "\n",
      "['284882215', 'Facebook', '389879808', 'USD', '0.0', '2974676', '212', '3.5', '3.5', '95.0', '4+', 'Social Networking', '37', '1', '29', '1']\n",
      "\n",
      "\n"
     ]
    }
   ],
   "source": [
    "explore_data(final_dataset_Apple, 0, 2,)"
   ]
  },
  {
   "cell_type": "markdown",
   "metadata": {},
   "source": [
    "The most useful columns would be: \n",
    "- For Android the columns Category and Genres, since the column type only says 'Free' or 'Paid'. \n",
    "- For Apple the column prime_genre"
   ]
  },
  {
   "cell_type": "code",
   "execution_count": 18,
   "metadata": {},
   "outputs": [
    {
     "name": "stdout",
     "output_type": "stream",
     "text": [
      "{'Social Networking': 2.32, 'Photo & Video': 4.85, 'Games': 53.65, 'Music': 1.92, 'Reference': 0.89, 'Health & Fitness': 2.5, 'Weather': 1.0, 'Utilities': 3.45, 'Travel': 1.13, 'Shopping': 1.69, 'News': 1.04, 'Navigation': 0.64, 'Lifestyle': 2.0, 'Entertainment': 7.43, 'Food & Drink': 0.88, 'Sports': 1.58, 'Book': 1.56, 'Finance': 1.44, 'Education': 6.29, 'Productivity': 2.47, 'Business': 0.79, 'Catalogs': 0.14, 'Medical': 0.32}\n"
     ]
    }
   ],
   "source": [
    "def freq_table(dataset, index):\n",
    "    table_dictionary = {}\n",
    "    for list in dataset[1:]:\n",
    "        dictionary_key = list[index]\n",
    "        if dictionary_key not in table_dictionary:\n",
    "            table_dictionary[dictionary_key] = 1\n",
    "        else:\n",
    "            table_dictionary[dictionary_key] += 1\n",
    "    \n",
    "    for keys in table_dictionary:      \n",
    "        table_dictionary[keys] = round((table_dictionary[keys]/len(dataset))*100,2)\n",
    "        \n",
    "    return table_dictionary\n",
    "    \n",
    "print(freq_table(final_dataset_Apple, 11))"
   ]
  },
  {
   "cell_type": "markdown",
   "metadata": {},
   "source": [
    "We put 2 'for' functions because just like a 'return' statement, 'if' and 'else' will stop the code once executed. Now we use the function that was given to us to display the table with the genres and their proportions in a descending order."
   ]
  },
  {
   "cell_type": "code",
   "execution_count": 19,
   "metadata": {},
   "outputs": [
    {
     "name": "stdout",
     "output_type": "stream",
     "text": [
      "FAMILY : 18.19\n",
      "GAME : 10.55\n",
      "TOOLS : 7.78\n",
      "MEDICAL : 4.27\n",
      "BUSINESS : 4.24\n",
      "PRODUCTIVITY : 3.91\n",
      "PERSONALIZATION : 3.62\n",
      "COMMUNICATION : 3.57\n",
      "SPORTS : 3.54\n",
      "LIFESTYLE : 3.52\n",
      "FINANCE : 3.38\n",
      "HEALTH_AND_FITNESS : 3.15\n",
      "PHOTOGRAPHY : 3.09\n",
      "SOCIAL : 2.72\n",
      "NEWS_AND_MAGAZINES : 2.61\n",
      "SHOPPING : 2.4\n",
      "TRAVEL_AND_LOCAL : 2.38\n",
      "DATING : 2.16\n",
      "BOOKS_AND_REFERENCE : 2.13\n",
      "VIDEO_PLAYERS : 1.61\n",
      "EDUCATION : 1.44\n",
      "ENTERTAINMENT : 1.37\n",
      "MAPS_AND_NAVIGATION : 1.26\n",
      "FOOD_AND_DRINK : 1.17\n",
      "HOUSE_AND_HOME : 0.81\n",
      "LIBRARIES_AND_DEMO : 0.78\n",
      "AUTO_AND_VEHICLES : 0.78\n",
      "WEATHER : 0.76\n",
      "ART_AND_DESIGN : 0.6\n",
      "EVENTS : 0.59\n",
      "PARENTING : 0.55\n",
      "COMICS : 0.55\n",
      "BEAUTY : 0.49\n",
      "--------------------------------\n",
      "  \n",
      "Tools : 7.77\n",
      "Entertainment : 5.75\n",
      "Education : 5.06\n",
      "Medical : 4.27\n",
      "Business : 4.24\n",
      "Productivity : 3.91\n",
      "Sports : 3.67\n",
      "Personalization : 3.62\n",
      "Communication : 3.57\n",
      "Lifestyle : 3.51\n",
      "Finance : 3.38\n",
      "Action : 3.37\n",
      "Health & Fitness : 3.15\n",
      "Photography : 3.09\n",
      "Social : 2.72\n",
      "News & Magazines : 2.61\n",
      "Shopping : 2.4\n",
      "Travel & Local : 2.37\n",
      "Dating : 2.16\n",
      "Books & Reference : 2.13\n",
      "Arcade : 2.03\n",
      "Simulation : 1.84\n",
      "Casual : 1.78\n",
      "Video Players & Editors : 1.6\n",
      "Puzzle : 1.29\n",
      "Maps & Navigation : 1.26\n",
      "Food & Drink : 1.17\n",
      "Role Playing : 1.01\n",
      "Strategy : 0.99\n",
      "Racing : 0.9\n",
      "House & Home : 0.81\n",
      "Libraries & Demo : 0.78\n",
      "Auto & Vehicles : 0.78\n",
      "Weather : 0.76\n",
      "Adventure : 0.69\n",
      "Events : 0.59\n",
      "Comics : 0.54\n",
      "Art & Design : 0.54\n",
      "Beauty : 0.49\n",
      "Education;Education : 0.46\n",
      "Card : 0.44\n",
      "Parenting : 0.42\n",
      "Board : 0.41\n",
      "Educational;Education : 0.38\n",
      "Casino : 0.36\n",
      "Trivia : 0.35\n",
      "Educational : 0.34\n",
      "Casual;Pretend Play : 0.29\n",
      "Word : 0.27\n",
      "Entertainment;Music & Video : 0.25\n",
      "Education;Pretend Play : 0.21\n",
      "Music : 0.2\n",
      "Casual;Action & Adventure : 0.19\n",
      "Racing;Action & Adventure : 0.18\n",
      "Puzzle;Brain Games : 0.18\n",
      "Educational;Pretend Play : 0.18\n",
      "Action;Action & Adventure : 0.16\n",
      "Arcade;Action & Adventure : 0.15\n",
      "Board;Brain Games : 0.14\n",
      "Casual;Brain Games : 0.12\n",
      "Adventure;Action & Adventure : 0.12\n",
      "Simulation;Action & Adventure : 0.1\n",
      "Entertainment;Brain Games : 0.07\n",
      "Role Playing;Action & Adventure : 0.06\n",
      "Parenting;Music & Video : 0.06\n",
      "Parenting;Education : 0.06\n",
      "Educational;Brain Games : 0.06\n",
      "Education;Creativity : 0.06\n",
      "Education;Action & Adventure : 0.06\n",
      "Casual;Creativity : 0.06\n",
      "Art & Design;Creativity : 0.06\n",
      "Role Playing;Pretend Play : 0.05\n",
      "Puzzle;Action & Adventure : 0.05\n",
      "Educational;Creativity : 0.05\n",
      "Education;Music & Video : 0.05\n",
      "Education;Brain Games : 0.05\n",
      "Sports;Action & Adventure : 0.04\n",
      "Simulation;Pretend Play : 0.04\n",
      "Educational;Action & Adventure : 0.04\n",
      "Video Players & Editors;Music & Video : 0.03\n",
      "Simulation;Education : 0.03\n",
      "Music;Music & Video : 0.03\n",
      "Entertainment;Creativity : 0.03\n",
      "Entertainment;Action & Adventure : 0.03\n",
      "Casual;Education : 0.03\n",
      "Board;Action & Adventure : 0.03\n",
      "Video Players & Editors;Creativity : 0.02\n",
      "Strategy;Action & Adventure : 0.02\n",
      "Puzzle;Creativity : 0.02\n",
      "Entertainment;Pretend Play : 0.02\n",
      "Casual;Music & Video : 0.02\n",
      "Card;Action & Adventure : 0.02\n",
      "Books & Reference;Education : 0.02\n",
      "Art & Design;Pretend Play : 0.02\n",
      "Art & Design;Action & Adventure : 0.02\n",
      "Adventure;Education : 0.02\n",
      "Trivia;Education : 0.01\n",
      "Travel & Local;Action & Adventure : 0.01\n",
      "Tools;Education : 0.01\n",
      "Strategy;Education : 0.01\n",
      "Strategy;Creativity : 0.01\n",
      "Role Playing;Education : 0.01\n",
      "Role Playing;Brain Games : 0.01\n",
      "Racing;Pretend Play : 0.01\n",
      "Puzzle;Education : 0.01\n",
      "Parenting;Brain Games : 0.01\n",
      "Music & Audio;Music & Video : 0.01\n",
      "Lifestyle;Pretend Play : 0.01\n",
      "Lifestyle;Education : 0.01\n",
      "Health & Fitness;Education : 0.01\n",
      "Health & Fitness;Action & Adventure : 0.01\n",
      "Entertainment;Education : 0.01\n",
      "Communication;Creativity : 0.01\n",
      "Comics;Creativity : 0.01\n",
      "Card;Brain Games : 0.01\n",
      "Books & Reference;Creativity : 0.01\n",
      "Board;Pretend Play : 0.01\n",
      "Arcade;Pretend Play : 0.01\n",
      "Adventure;Brain Games : 0.01\n",
      "--------------------------------\n",
      "  \n",
      "Games : 53.65\n",
      "Entertainment : 7.43\n",
      "Education : 6.29\n",
      "Photo & Video : 4.85\n",
      "Utilities : 3.45\n",
      "Health & Fitness : 2.5\n",
      "Productivity : 2.47\n",
      "Social Networking : 2.32\n",
      "Lifestyle : 2.0\n",
      "Music : 1.92\n",
      "Shopping : 1.69\n",
      "Sports : 1.58\n",
      "Book : 1.56\n",
      "Finance : 1.44\n",
      "Travel : 1.13\n",
      "News : 1.04\n",
      "Weather : 1.0\n",
      "Reference : 0.89\n",
      "Food & Drink : 0.88\n",
      "Business : 0.79\n",
      "Navigation : 0.64\n",
      "Medical : 0.32\n",
      "Catalogs : 0.14\n"
     ]
    }
   ],
   "source": [
    "def display_table(dataset, index):\n",
    "    table = freq_table(dataset, index)\n",
    "    table_display = []\n",
    "    for key in table:\n",
    "        key_val_as_tuple = (table[key], key)\n",
    "        table_display.append(key_val_as_tuple)\n",
    "\n",
    "    table_sorted = sorted(table_display, reverse = True)\n",
    "    for entry in table_sorted:\n",
    "        print(entry[1], ':', entry[0])\n",
    "        \n",
    "#We use the function to display prime_genre, Genres and Category from each of the databases\n",
    "\n",
    "display_table(final_dataset_Android, 1)\n",
    "print('--------------------------------')\n",
    "print('  ')\n",
    "display_table(final_dataset_Android, 9)\n",
    "print('--------------------------------')\n",
    "print('  ')\n",
    "display_table(final_dataset_Apple, 11)"
   ]
  },
  {
   "cell_type": "markdown",
   "metadata": {},
   "source": [
    "### First observations"
   ]
  },
  {
   "cell_type": "markdown",
   "metadata": {},
   "source": [
    "For the App Store we can see the following:\n",
    "- Games and Entertainment seem to be the most common genres, specially games who beats every other category by a landslide. Photo and Video could also even be considered as part of 'Entertainment'\n",
    "\n",
    "- Education and Utilities are the other major categories, which confirms the saying of smartphones being handheld computers. \n",
    "\n",
    "- Every other category falls to such a small amount that it can signal: either these sectors have very big entry barriers (such as Music and Social Media, both monopolized sectors), or are not really worth it. We will see later on\n",
    "\n",
    "For the Google Play Store we can see the following:\n",
    "\n",
    "- Family and Games are the most common categories. We can say that this follows a similar pattern to the App Store. However, in Genres we see the top is Tools? In categories we also see Tools very high up\n",
    "\n",
    "- In the App Store we ALSO see Utilities in the top 5, and depending how you categorize it, some items in Education section for App Store could also fall under 'Tools' in Google Play\n",
    "\n",
    "- This last point could suggest that, apart from Gaming being the obvious popular contender, there is a high volume of tools with some sort of gamification in it. \n",
    "\n",
    "We cannot recommend anything yet because we do not know what is the real volume of downloads of these apps, and even though Games looks promising, it is also heavily competitive"
   ]
  },
  {
   "cell_type": "markdown",
   "metadata": {},
   "source": [
    "### Getting to the most popular apps"
   ]
  },
  {
   "cell_type": "markdown",
   "metadata": {},
   "source": [
    "Most popular means more downloads, so more people will see our adds. \n",
    "\n",
    "#### We start with the App Store.\n",
    "\n",
    "The App Store does not have a specific column for the volume of downloads, but it has a column for the number of ratings (rating_count_tot), index 5. We need to analyze how many ratings does each genre have on average (there are many apps with many different numbers of ratings in each genre, so the average will give us a good idea).\n",
    "\n",
    "To do so, we go through the list of genres that we had previously, since they are all unique, and we ask the code:\n",
    "- For each unique gender, check which apps in the total database have this gender\n",
    "- In that case (if genre_app == genre) then add the rating count to the variable total and add 1 to the total of apps that have been checked\n",
    "\n",
    "At the end of the loop we will have the sum of all the rating counts and the total of apps for each genre, for which we calculate the average per genre. "
   ]
  },
  {
   "cell_type": "code",
   "execution_count": 20,
   "metadata": {},
   "outputs": [
    {
     "name": "stdout",
     "output_type": "stream",
     "text": [
      "45498.9 : Social Networking\n",
      "28842.02 : Music\n",
      "22410.84 : Reference\n",
      "22181.03 : Weather\n",
      "18615.33 : Shopping\n",
      "14352.28 : Photo & Video\n",
      "14129.44 : Travel\n",
      "14026.93 : Sports\n",
      "13938.62 : Food & Drink\n",
      "13692.0 : Games\n",
      "13015.07 : News\n",
      "11853.96 : Navigation\n",
      "11047.65 : Finance\n",
      "9913.17 : Health & Fitness\n",
      "8051.33 : Productivity\n",
      "7533.68 : Entertainment\n",
      "6863.82 : Utilities\n",
      "6161.76 : Lifestyle\n",
      "5125.44 : Book\n",
      "4788.09 : Business\n",
      "2239.23 : Education\n",
      "1732.5 : Catalogs\n",
      "592.78 : Medical\n"
     ]
    }
   ],
   "source": [
    "averagelist_ratings_Apple = []\n",
    "table_with_genres_Apple = freq_table(final_dataset_Apple, 11) \n",
    "for genre in table_with_genres_Apple:\n",
    "    total = 0 #total will contain the sum of user ratings for each genre\n",
    "    len_genre = 0 #len_genre will contain the number of apps specific to each genre\n",
    "    for allcolumns in final_dataset_Apple:\n",
    "        genre_app = allcolumns[11]\n",
    "        if genre_app == genre:\n",
    "            n_of_ratings_Apple = float(allcolumns[5])\n",
    "            total += n_of_ratings_Apple #we assign the sum of user ratings for this specific app\n",
    "            len_genre += 1 #we add 1 app to the list, as if we were marking ths app as 'complete'\n",
    "    average_number_of_ratings_Apple = round(total/len_genre,2)\n",
    "    \n",
    "    #alternative without sorting: print(genre,':', ' ', average_number_of_ratings_Apple)\n",
    "   \n",
    "    tuple_ratings_Apple = (average_number_of_ratings_Apple, genre)\n",
    "    averagelist_ratings_Apple.append(tuple_ratings_Apple)\n",
    "    averagelist_ratings_Apple_sorted = sorted(averagelist_ratings_Apple, reverse = True)\n",
    "for installs in averagelist_ratings_Apple_sorted:\n",
    "    print(installs[0], ':', installs[1])"
   ]
  },
  {
   "cell_type": "markdown",
   "metadata": {},
   "source": [
    "The apps with most reviews are Social Networking apps, but there is a very small proportion of these. As we suspected, if there is a small proportion and an overwhelming amount of reviews, this means that there is a clear monopoly and the entry barriers are way too high. Music is the same case.\n",
    "\n",
    "Entertainment and Education were very high up in app proportions but they have a poor number of reviews.\n",
    "\n",
    "Photo & Video and Games look like the most promising categories with a high number of reviews and we know they had a high proportion of apps."
   ]
  },
  {
   "cell_type": "markdown",
   "metadata": {},
   "source": [
    "#### Next up is the Google Play Store"
   ]
  },
  {
   "cell_type": "markdown",
   "metadata": {},
   "source": [
    "The data in the number of installs is not very precise, instead of giving us a specific number we only get a bracket, such as 100,000+ or 1,000,000+. Since we only want to know the most installed apps by gender, we are not very seriously affected by this. We see some of these brackets below:"
   ]
  },
  {
   "cell_type": "code",
   "execution_count": 21,
   "metadata": {},
   "outputs": [
    {
     "name": "stdout",
     "output_type": "stream",
     "text": [
      "['App', 'Category', 'Rating', 'Reviews', 'Size', 'Installs', 'Type', 'Price', 'Content Rating', 'Genres', 'Last Updated', 'Current Ver', 'Android Ver']\n",
      "\n",
      "\n",
      "['Photo Editor & Candy Camera & Grid & ScrapBook', 'ART_AND_DESIGN', '4.1', '159', '19M', '10,000+', 'Free', '0', 'Everyone', 'Art & Design', 'January 7, 2018', '1.0.0', '4.0.3 and up']\n",
      "\n",
      "\n",
      "['Coloring book moana', 'ART_AND_DESIGN', '3.9', '967', '14M', '500,000+', 'Free', '0', 'Everyone', 'Art & Design;Pretend Play', 'January 15, 2018', '2.0.0', '4.0.3 and up']\n",
      "\n",
      "\n",
      "['U Launcher Lite – FREE Live Cool Themes, Hide Apps', 'ART_AND_DESIGN', '4.7', '87510', '8.7M', '5,000,000+', 'Free', '0', 'Everyone', 'Art & Design', 'August 1, 2018', '1.2.4', '4.0.3 and up']\n",
      "\n",
      "\n"
     ]
    }
   ],
   "source": [
    "explore_data(final_dataset_Android, 0, 4,)"
   ]
  },
  {
   "cell_type": "markdown",
   "metadata": {},
   "source": [
    "These brackets will definitely give us an error because they have a comma ',' and a '+' character. We will need to keep this in mind and remove later on the commas and the pluses with the function string.replace().\n",
    "\n",
    "Just like with the App Store for Apple, we use the unique values from the frequency table to compare with the rest of the database and do the iterations based on these."
   ]
  },
  {
   "cell_type": "code",
   "execution_count": 22,
   "metadata": {},
   "outputs": [
    {
     "name": "stdout",
     "output_type": "stream",
     "text": [
      "84359886.95 : COMMUNICATION\n",
      "47694467.46 : SOCIAL\n",
      "35554301.26 : VIDEO_PLAYERS\n",
      "33434177.76 : PRODUCTIVITY\n",
      "30669601.76 : GAME\n",
      "30114172.1 : PHOTOGRAPHY\n",
      "26623593.59 : TRAVEL_AND_LOCAL\n",
      "26488755.34 : NEWS_AND_MAGAZINES\n",
      "19256107.38 : ENTERTAINMENT\n",
      "13585731.81 : TOOLS\n",
      "12491726.1 : SHOPPING\n",
      "8318050.11 : BOOKS_AND_REFERENCE\n",
      "5932384.65 : PERSONALIZATION\n",
      "5586230.77 : EDUCATION\n",
      "5286729.12 : MAPS_AND_NAVIGATION\n",
      "5201959.18 : FAMILY\n",
      "5196347.8 : WEATHER\n",
      "4642441.38 : HEALTH_AND_FITNESS\n",
      "4560350.26 : SPORTS\n",
      "2395215.12 : FINANCE\n",
      "2178075.79 : BUSINESS\n",
      "2156683.08 : FOOD_AND_DRINK\n",
      "1917187.06 : HOUSE_AND_HOME\n",
      "1912893.85 : ART_AND_DESIGN\n",
      "1407443.82 : LIFESTYLE\n",
      "1129533.36 : DATING\n",
      "934769.17 : COMICS\n",
      "741128.35 : LIBRARIES_AND_DEMO\n",
      "625061.31 : AUTO_AND_VEHICLES\n",
      "525351.83 : PARENTING\n",
      "513151.89 : BEAUTY\n",
      "249580.64 : EVENTS\n",
      "115026.86 : MEDICAL\n"
     ]
    }
   ],
   "source": [
    "genres_category_list_Android = freq_table(final_dataset_Android, 1)\n",
    "averagelist_installs_Android = []\n",
    "for categorized_genres in genres_category_list_Android:\n",
    "    total = 0\n",
    "    len_category = 0\n",
    "    \n",
    "    for all_columns_Android in final_dataset_Android:\n",
    "        category_app = all_columns_Android[1]\n",
    "        \n",
    "        if category_app == categorized_genres:\n",
    "            n_installs_Android = all_columns_Android[5]\n",
    "            n_installs_Android = n_installs_Android.replace('+', '')\n",
    "            n_installs_Android = n_installs_Android.replace(',', '')\n",
    "            n_installs_Android = float(n_installs_Android)\n",
    "            \n",
    "            #We reintroduce the clean values to index 5\n",
    "            \n",
    "            all_columns_Android[5] = n_installs_Android\n",
    "            \n",
    "            #We keep going, assigning the total number of installs per category to the variable \"total\"\n",
    "            \n",
    "            total += n_installs_Android\n",
    "            len_category += 1\n",
    "            \n",
    "    average_installs_Android = round(total/len_category, 2)\n",
    "# Alternative to the sorting: print(categorized_genres, ':', ' ', average_installs_Android)\n",
    "    tuple_installs_Android = (average_installs_Android, categorized_genres)\n",
    "    averagelist_installs_Android.append(tuple_installs_Android)\n",
    "    averagelist_installs_Android_sorted = sorted(averagelist_installs_Android, reverse = True)\n",
    "\n",
    "for installs in averagelist_installs_Android_sorted:\n",
    "    print(installs[0], ':', installs[1])\n",
    "\n",
    "    "
   ]
  },
  {
   "cell_type": "markdown",
   "metadata": {},
   "source": [
    "Communication (84M),Social (47M), Video_Players (35M) are the top categories, with Games and Photography being very close to those numbers (30M each). From all these categories, we had on the top 5 in abundance Game only.\n",
    "\n",
    "Same as before, a high number of apps and a high number of installs per app suggest us that it is a category that is promising and with not a lot of entry barriers. Communication would be the next highest, but it only constitutes a little over 3% of the database, which can suggest that there are few apps that dominate everything else."
   ]
  },
  {
   "cell_type": "markdown",
   "metadata": {},
   "source": [
    "## Conclusions\n",
    "\n",
    "The data from both stores suggests that the easiest genre to enter is Games. \n",
    "\n",
    "- Social and Video are also big players for both stores, but we know very well that Social is overly monopolized (its low proportion to the total of apps and high numbers of installs corroborates it), so that is a no-go. \n",
    "\n",
    "- Video also has a high number of installs and not a very high proportion in Android's case. If done smartly, a Video Tool for Social could get us somewhere in both stores, but is has to be catchy and somehow different to stand out enough and not fall to the big players."
   ]
  },
  {
   "cell_type": "markdown",
   "metadata": {},
   "source": [
    "## A little help for our development team\n",
    "\n",
    "All these values are averages, and ideally we would want to prevent our development team to avoid wasting their time. An image is worth a thousand words, so a very good 'picture' for them to have would be to get the top-rated, top-installed apps for each of our most popular Genres. \n",
    "\n",
    "Looking these up in the Google Play Store and App Store is very easy from anynone's smartphone. However, we will not always have at hand this kind of seamless databases, and if we present these samples to our developers inside this project we will have everything in one place and make it easier for the development team to use this project to corroborate other pieces of data.\n",
    "\n",
    "For simplicity, we are only going to do this for the top genres of each store:\n",
    "\n",
    "- App Store: 'Photo & Video' and 'Games'\n",
    "- Google Play Store: 'GAME' and 'VIDEO_PLAYERS'\n",
    "\n",
    "Apple will go first. We start by finding out the maximum number of installs (in Apple's case, of ratings), and move from there:"
   ]
  },
  {
   "cell_type": "code",
   "execution_count": 23,
   "metadata": {},
   "outputs": [
    {
     "name": "stdout",
     "output_type": "stream",
     "text": [
      "2974676.0\n",
      "[2974676.0, 2161558.0, 2130805.0, 1724546.0, 1126879.0, 1061624.0, 985920.0, 961794.0, 878563.0, 824451.0, 706110.0, 698516.0, 679055.0, 677247.0, 669079.0, 612532.0, 567344.0, 541693.0, 522012.0, 508808.0, 507706.0, 503230.0, 495626.0, 481564.0, 479440.0, 464312.0, 446880.0, 446185.0, 426463.0, 418033.0, 417779.0, 416736.0, 414803.0, 405647.0, 405007.0, 402925.0, 397730.0, 395261.0, 393469.0, 391401.0, 386521.0, 373857.0, 373835.0, 373519.0, 370370.0, 360974.0, 359832.0, 354058.0, 351466.0, 345046.0]\n"
     ]
    }
   ],
   "source": [
    "Apple_rating_count_list = []\n",
    "for apps in final_dataset_Apple[1:]:\n",
    "    user_rating_count_Apple = float(apps[5])\n",
    "    Apple_rating_count_list.append(user_rating_count_Apple)\n",
    "print(max(Apple_rating_count_list))\n",
    "Apple_rating_count_list = sorted(Apple_rating_count_list, reverse=True)\n",
    "print(Apple_rating_count_list[0:50])"
   ]
  },
  {
   "cell_type": "code",
   "execution_count": 24,
   "metadata": {
    "scrolled": false
   },
   "outputs": [
    {
     "name": "stdout",
     "output_type": "stream",
     "text": [
      "[['389801252', 'Instagram', '113954816', 'USD', '0.0', '2161558', '1289', '4.5', '4.0', '10.23', '12+', 'Photo & Video', '37', '0', '29', '1'], ['529479190', 'Clash of Clans', '116476928', 'USD', '0.0', '2130805', '579', '4.5', '4.5', '9.24.12', '9+', 'Games', '38', '5', '18', '1'], ['420009108', 'Temple Run', '65921024', 'USD', '0.0', '1724546', '3842', '4.5', '4.0', '1.6.2', '9+', 'Games', '40', '5', '1', '1'], ['553834731', 'Candy Crush Saga', '222846976', 'USD', '0.0', '961794', '2453', '4.5', '4.5', '1.101.0', '4+', 'Games', '43', '5', '24', '1'], ['343200656', 'Angry Birds', '175966208', 'USD', '0.0', '824451', '107', '4.5', '3.0', '7.4.0', '4+', 'Games', '38', '0', '10', '1'], ['512939461', 'Subway Surfers', '156038144', 'USD', '0.0', '706110', '97', '4.5', '4.0', '1.72.1', '9+', 'Games', '38', '5', '1', '1'], ['362949845', 'Fruit Ninja Classic', '104590336', 'USD', '1.99', '698516', '132', '4.5', '4.0', '2.3.9', '4+', 'Games', '38', '5', '13', '1'], ['359917414', 'Solitaire', '101943296', 'USD', '0.0', '679055', '9673', '4.5', '4.5', '4.11.2', '4+', 'Games', '38', '4', '11', '1'], ['469369175', 'CSR Racing', '524803072', 'USD', '0.0', '677247', '2029', '4.5', '4.5', '4.0.1', '4+', 'Games', '37', '5', '10', '1'], ['924373886', 'Crossy Road - Endless Arcade Hopper', '165471232', 'USD', '0.0', '669079', '1087', '4.5', '4.5', '1.5.4', '9+', 'Games', '38', '5', '13', '1'], ['575658129', 'Injustice: Gods Among Us', '1829599232', 'USD', '0.0', '612532', '410', '4.5', '4.5', '2.15.1', '12+', 'Games', '39', '5', '13', '1'], ['506627515', 'Hay Day', '113641472', 'USD', '0.0', '567344', '4887', '4.5', '4.5', '1.33.134', '4+', 'Games', '38', '5', '18', '1'], ['500116670', 'Clear Vision (17+)', '37879808', 'USD', '0.99', '541693', '69225', '4.5', '4.5', '1.1.3', '17+', 'Games', '43', '5', '1', '1'], ['479516143', 'Minecraft: Pocket Edition', '147787776', 'USD', '6.99', '522012', '1148', '4.5', '4.5', '1.1', '9+', 'Games', '37', '1', '11', '1'], ['440045374', 'DragonVale', '153074688', 'USD', '0.0', '503230', '282', '4.5', '4.5', '3.15.0', '4+', 'Games', '37', '5', '10', '1'], ['487119327', 'Head Soccer', '121319424', 'USD', '0.0', '481564', '8518', '5.0', '5.0', '5.4.1', '4+', 'Games', '40', '4', '11', '1'], ['596402997', 'Despicable Me: Minion Rush', '147123200', 'USD', '0.0', '464312', '444', '4.5', '4.5', '4.6.0', '9+', 'Games', '38', '5', '16', '1'], ['466965151', 'The Sims™ FreePlay', '695603200', 'USD', '0.0', '446880', '1832', '4.5', '4.0', '5.29.0', '12+', 'Games', '38', '5', '12', '1'], ['350642635', 'Plants vs. Zombies', '105379840', 'USD', '0.99', '426463', '680', '5.0', '4.0', '1.9.13', '9+', 'Games', '38', '0', '5', '1'], ['582654048', 'Sonic Dash', '186687488', 'USD', '0.0', '418033', '419', '4.5', '4.5', '3.7.1', '4+', 'Games', '37', '5', '7', '1'], ['543186831', '8 Ball Pool™', '86776832', 'USD', '0.0', '416736', '19076', '4.5', '4.5', '3.9.1', '4+', 'Games', '38', '5', '10', '1'], ['422667065', 'Tiny Tower - Free City Building', '124720128', 'USD', '0.0', '414803', '4536', '4.5', '4.5', '3.3.12', '12+', 'Games', '38', '4', '1', '1'], ['457446957', 'Jetpack Joyride', '108813312', 'USD', '0.0', '405647', '877', '4.5', '4.5', '1.9.24', '9+', 'Games', '38', '5', '3', '1'], ['510461758', 'Bike Race - Top Motorcycle Racing Games', '120187904', 'USD', '0.0', '405007', '4053', '4.5', '5.0', '7.3.11', '4+', 'Games', '38', '5', '9', '1'], ['860822992', 'Kim Kardashian: Hollywood', '239976448', 'USD', '0.0', '397730', '467', '4.5', '4.5', '6.6.0', '12+', 'Games', '38', '5', '1', '1'], ['307727765', 'Doodle Jump', '48741376', 'USD', '0.99', '395261', '88', '4.5', '4.5', '3.17.6', '4+', 'Games', '37', '0', '1', '1'], ['651510680', 'Trivia Crack', '265484288', 'USD', '0.0', '393469', '34', '4.5', '3.5', '2.40', '4+', 'Games', '37', '5', '26', '1'], ['708600202', 'WordBrain', '110595072', 'USD', '0.0', '391401', '82', '4.5', '4.5', '1.21.1', '4+', 'Games', '38', '5', '1', '1'], ['930574573', 'Sniper 3D Assassin: Shoot to Kill Gun Game', '157851648', 'USD', '0.0', '386521', '10332', '5.0', '5.0', '1.17.6', '17+', 'Games', '40', '5', '9', '1'], ['526641427', 'Flow Free', '20669440', 'USD', '0.0', '373857', '3428', '4.5', '4.5', '2.9', '4+', 'Games', '38', '5', '11', '1'], ['698255242', 'Geometry Dash Lite', '69076992', 'USD', '0.0', '370370', '2650', '5.0', '4.5', '2.11', '4+', 'Games', '37', '4', '1', '1'], ['488627858', 'Draw Something', '84379648', 'USD', '2.99', '360974', '3', '4.5', '4.5', '3.0.17', '4+', 'Games', '38', '5', '1', '1'], ['366247306', '▻Sudoku', '71002112', 'USD', '0.0', '359832', '17119', '4.5', '5.0', '5.4', '4+', 'Games', '40', '5', '7', '1'], ['403858572', 'Fruit Ninja®', '163801088', 'USD', '0.0', '327025', '82', '4.5', '4.0', '2.5.1', '4+', 'Games', '38', '5', '13', '1'], ['387428400', 'Infinity Blade', '624107810', 'USD', '0.99', '326482', '177050', '5.0', '5.0', '1.4.1', '12+', 'Games', '43', '5', '13', '1'], ['640111933', 'Pixel Gun 3D', '1744486400', 'USD', '0.0', '301182', '3493', '4.5', '4.5', '12.1.1', '12+', 'Games', '38', '5', '1', '1'], ['572395608', 'Temple Run 2', '158025728', 'USD', '0.0', '295211', '91', '4.5', '4.0', '1.37', '9+', 'Games', '38', '5', '1', '1'], ['421167112', 'My Horse', '301896704', 'USD', '0.0', '293857', '249', '4.5', '4.0', '1.30.0', '4+', 'Games', '40', '5', '8', '1'], ['1153883316', 'Word Cookies!', '113321984', 'USD', '0.0', '287095', '16109', '4.5', '4.5', '1.2.6', '4+', 'Games', '38', '5', '1', '1'], ['561941526', 'Dragon City Mobile', '123612160', 'USD', '0.0', '277268', '223', '4.5', '4.5', '4.11', '4+', 'Games', '38', '5', '12', '1'], ['597986893', 'Plants vs. Zombies™ 2', '98507776', 'USD', '0.0', '267394', '1763', '4.5', '4.5', '6.0.1', '9+', 'Games', '37', '5', '6', '1'], ['1053012308', 'Clash Royale', '114408448', 'USD', '0.0', '266921', '3967', '4.5', '4.0', '1.8.2', '9+', 'Games', '38', '5', '15', '1'], ['625334537', 'Geometry Dash', '83931136', 'USD', '1.99', '266440', '6263', '5.0', '4.5', '2.10', '4+', 'Games', '37', '4', '1', '1'], ['887947640', 'CSR Racing 2', '1944321024', 'USD', '0.0', '257100', '2025', '5.0', '5.0', '1.11.3', '4+', 'Games', '37', '5', '11', '1'], ['847985808', 'Star Wars™: Commander', '187205632', 'USD', '0.0', '253448', '315', '4.5', '4.5', '4.10.0', '9+', 'Games', '37', '5', '11', '1']]\n",
      "45\n"
     ]
    }
   ],
   "source": [
    "sample_for_devs_Apple = []\n",
    "well_rated_sample_Apple = []\n",
    "for apps in final_dataset_Apple[1:]:\n",
    "    ratingApple = float(apps[7])\n",
    "    \n",
    "    if ratingApple > 4.0:\n",
    "        well_rated_sample_Apple.append(apps)\n",
    "        \n",
    "for appsApple in well_rated_sample_Apple:\n",
    "    genre_Apple = appsApple[11]\n",
    "    if genre_Apple == 'Games' or genre_Apple == 'Photo & Video': \n",
    "        sample_for_devs_Apple.append(appsApple)\n",
    "        \n",
    "final_sample_with_installs_for_devs_Apple = []\n",
    "for apps in sample_for_devs_Apple:\n",
    "    rating_count_Apple_sample = float(apps[5])\n",
    "    if rating_count_Apple_sample > 250000:\n",
    "        final_sample_with_installs_for_devs_Apple.append(apps)\n",
    "        \n",
    "print(final_sample_with_installs_for_devs_Apple)\n",
    "print(len(final_sample_with_installs_for_devs_Apple))"
   ]
  },
  {
   "cell_type": "markdown",
   "metadata": {},
   "source": [
    "***Above is a sample of 45 apps that fit the criteria that defines the top performing apps in the most lucrative categories of the App Store.*** "
   ]
  },
  {
   "cell_type": "markdown",
   "metadata": {},
   "source": [
    "We now do exactly the same for Android, starting with figuring out the maximum number of installs in the database."
   ]
  },
  {
   "cell_type": "code",
   "execution_count": 25,
   "metadata": {},
   "outputs": [
    {
     "name": "stdout",
     "output_type": "stream",
     "text": [
      "1000000000.0\n",
      "[10000.0, 500000.0, 5000000.0, 50000000.0, 100000.0, 50000.0, 50000.0, 1000000.0, 1000000.0, 10000.0, 1000000.0, 1000000.0, 10000000.0, 100000.0, 100000.0, 5000.0, 500000.0, 10000.0, 5000000.0, 10000000.0, 100000.0, 100000.0, 500000.0, 100000.0, 50000.0, 10000.0, 500000.0, 100000.0, 10000.0, 100000.0, 100000.0, 50000.0, 100000.0, 100000.0, 10000.0, 100000.0, 500000.0, 5000000.0, 10000.0, 500000.0, 10000.0, 100000.0, 10000000.0, 100000.0, 10000.0, 10000000.0, 100000.0, 100000.0, 100000.0, 100000.0]\n"
     ]
    }
   ],
   "source": [
    "Android_install_count_list = []\n",
    "for apps in final_dataset_Android[1:]:\n",
    "    install_count_Android = float(apps[5])\n",
    "    Android_install_count_list.append(install_count_Android)\n",
    "print(max(Android_install_count_list))\n",
    "Android_rating_count_list = sorted(Android_install_count_list, reverse=True)\n",
    "print(Android_install_count_list[0:50])"
   ]
  },
  {
   "cell_type": "code",
   "execution_count": 26,
   "metadata": {},
   "outputs": [
    {
     "name": "stdout",
     "output_type": "stream",
     "text": [
      "[['Subway Surfers', 'GAME', '4.5', '27722264', '76M', 1000000000.0, 'Free', '0', 'Everyone 10+', 'Arcade', 'July 12, 2018', '1.90.0', '4.1 and up'], ['Candy Crush Saga', 'GAME', '4.4', '22426677', '74M', 500000000.0, 'Free', '0', 'Everyone', 'Casual', 'July 5, 2018', '1.129.0.2', '4.1 and up'], ['Temple Run 2', 'GAME', '4.3', '8118609', '62M', 500000000.0, 'Free', '0', 'Everyone', 'Action', 'July 5, 2018', '1.49.1', '4.0 and up'], ['Pou', 'GAME', '4.3', '10485308', '24M', 500000000.0, 'Free', '0', 'Everyone', 'Casual', 'May 25, 2018', '1.4.77', '4.0 and up'], ['Subway Surfers', 'GAME', '4.5', '27723193', '76M', 1000000000.0, 'Free', '0', 'Everyone 10+', 'Arcade', 'July 12, 2018', '1.90.0', '4.1 and up'], ['Pou', 'GAME', '4.3', '10485334', '24M', 500000000.0, 'Free', '0', 'Everyone', 'Casual', 'May 25, 2018', '1.4.77', '4.0 and up'], ['Candy Crush Saga', 'GAME', '4.4', '22428456', '74M', 500000000.0, 'Free', '0', 'Everyone', 'Casual', 'July 5, 2018', '1.129.0.2', '4.1 and up'], ['My Talking Tom', 'GAME', '4.5', '14891223', 'Varies with device', 500000000.0, 'Free', '0', 'Everyone', 'Casual', 'July 19, 2018', '4.8.0.132', '4.1 and up'], ['Temple Run 2', 'GAME', '4.3', '8118937', '62M', 500000000.0, 'Free', '0', 'Everyone', 'Action', 'July 5, 2018', '1.49.1', '4.0 and up'], ['Subway Surfers', 'GAME', '4.5', '27724094', '76M', 1000000000.0, 'Free', '0', 'Everyone 10+', 'Arcade', 'July 12, 2018', '1.90.0', '4.1 and up'], ['Candy Crush Saga', 'GAME', '4.4', '22428456', '74M', 500000000.0, 'Free', '0', 'Everyone', 'Casual', 'July 5, 2018', '1.129.0.2', '4.1 and up'], ['Temple Run 2', 'GAME', '4.3', '8118937', '62M', 500000000.0, 'Free', '0', 'Everyone', 'Action', 'July 5, 2018', '1.49.1', '4.0 and up'], ['Candy Crush Saga', 'GAME', '4.4', '22429716', '74M', 500000000.0, 'Free', '0', 'Everyone', 'Casual', 'July 5, 2018', '1.129.0.2', '4.1 and up'], ['Candy Crush Saga', 'GAME', '4.4', '22430188', '74M', 500000000.0, 'Free', '0', 'Everyone', 'Casual', 'July 5, 2018', '1.129.0.2', '4.1 and up'], ['Subway Surfers', 'GAME', '4.5', '27725352', '76M', 1000000000.0, 'Free', '0', 'Everyone 10+', 'Arcade', 'July 12, 2018', '1.90.0', '4.1 and up'], ['Pou', 'GAME', '4.3', '10486018', '24M', 500000000.0, 'Free', '0', 'Everyone', 'Casual', 'May 25, 2018', '1.4.77', '4.0 and up'], ['Temple Run 2', 'GAME', '4.3', '8119151', '62M', 500000000.0, 'Free', '0', 'Everyone', 'Action', 'July 5, 2018', '1.49.1', '4.0 and up'], ['My Talking Tom', 'GAME', '4.5', '14892469', 'Varies with device', 500000000.0, 'Free', '0', 'Everyone', 'Casual', 'July 19, 2018', '4.8.0.132', '4.1 and up'], ['Subway Surfers', 'GAME', '4.5', '27725352', '76M', 1000000000.0, 'Free', '0', 'Everyone 10+', 'Arcade', 'July 12, 2018', '1.90.0', '4.1 and up'], ['Temple Run 2', 'GAME', '4.3', '8119154', '62M', 500000000.0, 'Free', '0', 'Everyone', 'Action', 'July 5, 2018', '1.49.1', '4.0 and up'], ['Candy Crush Saga', 'GAME', '4.4', '22430188', '74M', 500000000.0, 'Free', '0', 'Everyone', 'Casual', 'July 5, 2018', '1.129.0.2', '4.1 and up'], ['YouTube', 'VIDEO_PLAYERS', '4.3', '25655305', 'Varies with device', 1000000000.0, 'Free', '0', 'Teen', 'Video Players & Editors', 'August 2, 2018', 'Varies with device', 'Varies with device'], ['MX Player', 'VIDEO_PLAYERS', '4.5', '6474426', 'Varies with device', 500000000.0, 'Free', '0', 'Everyone', 'Video Players & Editors', 'August 6, 2018', 'Varies with device', 'Varies with device'], ['MX Player', 'VIDEO_PLAYERS', '4.5', '6474672', 'Varies with device', 500000000.0, 'Free', '0', 'Everyone', 'Video Players & Editors', 'August 6, 2018', 'Varies with device', 'Varies with device'], ['Subway Surfers', 'GAME', '4.5', '27711703', '76M', 1000000000.0, 'Free', '0', 'Everyone 10+', 'Arcade', 'July 12, 2018', '1.90.0', '4.1 and up'], ['YouTube', 'VIDEO_PLAYERS', '4.3', '25623548', 'Varies with device', 1000000000.0, 'Free', '0', 'Teen', 'Video Players & Editors', 'August 2, 2018', 'Varies with device', 'Varies with device'], ['Temple Run 2', 'GAME', '4.3', '8116142', '62M', 500000000.0, 'Free', '0', 'Everyone', 'Action', 'July 5, 2018', '1.49.1', '4.0 and up'], ['MX Player', 'VIDEO_PLAYERS', '4.5', '6469179', 'Varies with device', 500000000.0, 'Free', '0', 'Everyone', 'Video Players & Editors', 'August 1, 2018', 'Varies with device', 'Varies with device']]\n",
      "28\n"
     ]
    }
   ],
   "source": [
    "sample_for_devs_Android = []\n",
    "well_rated_sample_Android = []\n",
    "for apps in final_dataset_Android[1:]:\n",
    "    ratingAndroid = float(apps[2])\n",
    "    \n",
    "    if ratingAndroid > 4.0:\n",
    "        well_rated_sample_Android.append(apps)\n",
    "        \n",
    "for appsAndroid in well_rated_sample_Android:\n",
    "    genre_Android = appsAndroid[1]\n",
    "    if genre_Android == 'GAME' or genre_Android == 'VIDEO_PLAYERS': \n",
    "        sample_for_devs_Android.append(appsAndroid)\n",
    "\n",
    "final_sample_with_installs_for_devs_Android = []\n",
    "for apps in sample_for_devs_Android:\n",
    "    install_count_Android_sample = float(apps[5])\n",
    "    if install_count_Android_sample > 100000000:\n",
    "        final_sample_with_installs_for_devs_Android.append(apps)\n",
    "        \n",
    "print(final_sample_with_installs_for_devs_Android)\n",
    "print(len(final_sample_with_installs_for_devs_Android))"
   ]
  },
  {
   "cell_type": "markdown",
   "metadata": {},
   "source": [
    "***And finally, above is an example of 28 apps that the developers can use as a sample to develop top lucrative apps for the Google Play Store.***"
   ]
  },
  {
   "cell_type": "markdown",
   "metadata": {},
   "source": [
    "# *Coded and analyzed by Carlos Aguirrebeitia Gorostiaga*"
   ]
  }
 ],
 "metadata": {
  "kernelspec": {
   "display_name": "Python 3",
   "language": "python",
   "name": "python3"
  },
  "language_info": {
   "codemirror_mode": {
    "name": "ipython",
    "version": 3
   },
   "file_extension": ".py",
   "mimetype": "text/x-python",
   "name": "python",
   "nbconvert_exporter": "python",
   "pygments_lexer": "ipython3",
   "version": "3.8.2"
  }
 },
 "nbformat": 4,
 "nbformat_minor": 2
}
